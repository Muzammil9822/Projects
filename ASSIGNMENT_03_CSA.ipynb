{
  "nbformat": 4,
  "nbformat_minor": 0,
  "metadata": {
    "colab": {
      "provenance": [],
      "include_colab_link": true
    },
    "kernelspec": {
      "name": "python3",
      "display_name": "Python 3"
    },
    "language_info": {
      "name": "python"
    }
  },
  "cells": [
    {
      "cell_type": "markdown",
      "metadata": {
        "id": "view-in-github",
        "colab_type": "text"
      },
      "source": [
        "<a href=\"https://colab.research.google.com/github/Muzammil9822/Projects/blob/main/ASSIGNMENT_03_CSA.ipynb\" target=\"_parent\"><img src=\"https://colab.research.google.com/assets/colab-badge.svg\" alt=\"Open In Colab\"/></a>"
      ]
    },
    {
      "cell_type": "code",
      "execution_count": 1,
      "metadata": {
        "colab": {
          "base_uri": "https://localhost:8080/"
        },
        "id": "_TB5yoxvsxPx",
        "outputId": "66e510ac-12c9-49d9-de14-57a360c5d875"
      },
      "outputs": [
        {
          "output_type": "stream",
          "name": "stdout",
          "text": [
            "Requirement already satisfied: kaggle in /usr/local/lib/python3.10/dist-packages (1.6.12)\n",
            "Requirement already satisfied: six>=1.10 in /usr/local/lib/python3.10/dist-packages (from kaggle) (1.16.0)\n",
            "Requirement already satisfied: certifi>=2023.7.22 in /usr/local/lib/python3.10/dist-packages (from kaggle) (2024.2.2)\n",
            "Requirement already satisfied: python-dateutil in /usr/local/lib/python3.10/dist-packages (from kaggle) (2.8.2)\n",
            "Requirement already satisfied: requests in /usr/local/lib/python3.10/dist-packages (from kaggle) (2.31.0)\n",
            "Requirement already satisfied: tqdm in /usr/local/lib/python3.10/dist-packages (from kaggle) (4.66.2)\n",
            "Requirement already satisfied: python-slugify in /usr/local/lib/python3.10/dist-packages (from kaggle) (8.0.4)\n",
            "Requirement already satisfied: urllib3 in /usr/local/lib/python3.10/dist-packages (from kaggle) (2.0.7)\n",
            "Requirement already satisfied: bleach in /usr/local/lib/python3.10/dist-packages (from kaggle) (6.1.0)\n",
            "Requirement already satisfied: webencodings in /usr/local/lib/python3.10/dist-packages (from bleach->kaggle) (0.5.1)\n",
            "Requirement already satisfied: text-unidecode>=1.3 in /usr/local/lib/python3.10/dist-packages (from python-slugify->kaggle) (1.3)\n",
            "Requirement already satisfied: charset-normalizer<4,>=2 in /usr/local/lib/python3.10/dist-packages (from requests->kaggle) (3.3.2)\n",
            "Requirement already satisfied: idna<4,>=2.5 in /usr/local/lib/python3.10/dist-packages (from requests->kaggle) (3.7)\n"
          ]
        }
      ],
      "source": [
        "! pip install kaggle"
      ]
    },
    {
      "cell_type": "code",
      "source": [
        "! mkdir ~/.kaggle"
      ],
      "metadata": {
        "id": "86EzVNf9s0Q0"
      },
      "execution_count": 2,
      "outputs": []
    },
    {
      "cell_type": "code",
      "source": [
        "! cp kaggle.json ~/.kaggle/"
      ],
      "metadata": {
        "id": "CNnO-b2Vs1UN",
        "colab": {
          "base_uri": "https://localhost:8080/"
        },
        "outputId": "3ef3ffaa-7b67-43d2-c017-1fa3f72f5c32"
      },
      "execution_count": 3,
      "outputs": [
        {
          "output_type": "stream",
          "name": "stdout",
          "text": [
            "cp: cannot stat 'kaggle.json': No such file or directory\n"
          ]
        }
      ]
    },
    {
      "cell_type": "code",
      "source": [
        "! chmod 600 ~/.kaggle/kaggle.json"
      ],
      "metadata": {
        "id": "uXEOPmFHs2Ul",
        "colab": {
          "base_uri": "https://localhost:8080/"
        },
        "outputId": "36209e1f-3300-4798-d9cf-1f3b3c79c483"
      },
      "execution_count": 4,
      "outputs": [
        {
          "output_type": "stream",
          "name": "stdout",
          "text": [
            "chmod: cannot access '/root/.kaggle/kaggle.json': No such file or directory\n"
          ]
        }
      ]
    },
    {
      "cell_type": "code",
      "source": [
        "! kaggle datasets download -d fusicfenta/chest-xray-for-covid19-detection"
      ],
      "metadata": {
        "colab": {
          "base_uri": "https://localhost:8080/"
        },
        "id": "jixAI0zws3XF",
        "outputId": "a0c23d5b-1197-44a9-e4c4-a7aa00222a75"
      },
      "execution_count": 5,
      "outputs": [
        {
          "output_type": "stream",
          "name": "stdout",
          "text": [
            "Dataset URL: https://www.kaggle.com/datasets/fusicfenta/chest-xray-for-covid19-detection\n",
            "License(s): DbCL-1.0\n",
            "Downloading chest-xray-for-covid19-detection.zip to /content\n",
            " 92% 162M/176M [00:01<00:00, 102MB/s] \n",
            "100% 176M/176M [00:02<00:00, 89.0MB/s]\n"
          ]
        }
      ]
    },
    {
      "cell_type": "code",
      "source": [
        "! unzip chest-xray-for-covid19-detection.zip"
      ],
      "metadata": {
        "colab": {
          "base_uri": "https://localhost:8080/"
        },
        "id": "sS1Y4-Sus4bk",
        "outputId": "9110b2c7-26ad-4e4c-bc68-c7067ebcd83a"
      },
      "execution_count": 6,
      "outputs": [
        {
          "output_type": "stream",
          "name": "stdout",
          "text": [
            "Archive:  chest-xray-for-covid19-detection.zip\n",
            "  inflating: Dataset/Prediction/NORMAL2-IM-0338-0001.jpeg  \n",
            "  inflating: Dataset/Prediction/NORMAL2-IM-0339-0001.jpeg  \n",
            "  inflating: Dataset/Prediction/NORMAL2-IM-0340-0001.jpeg  \n",
            "  inflating: Dataset/Prediction/NORMAL2-IM-0341-0001.jpeg  \n",
            "  inflating: Dataset/Prediction/NORMAL2-IM-0352-0001.jpeg  \n",
            "  inflating: Dataset/Prediction/NORMAL2-IM-0353-0001.jpeg  \n",
            "  inflating: Dataset/Prediction/NORMAL2-IM-0354-0001.jpeg  \n",
            "  inflating: Dataset/Prediction/NORMAL2-IM-0357-0001.jpeg  \n",
            "  inflating: Dataset/Prediction/NORMAL2-IM-0370-0001.jpeg  \n",
            "  inflating: Dataset/Prediction/NORMAL2-IM-0372-0001.jpeg  \n",
            "  inflating: Dataset/Prediction/NORMAL2-IM-0373-0001.jpeg  \n",
            "  inflating: Dataset/Prediction/NORMAL2-IM-0374-0001.jpeg  \n",
            "  inflating: Dataset/Prediction/SARS-10.1148rg.242035193-g04mr34g0-Fig8a-day0.jpeg  \n",
            "  inflating: Dataset/Prediction/SARS-10.1148rg.242035193-g04mr34g0-Fig8b-day5.jpeg  \n",
            "  inflating: Dataset/Prediction/SARS-10.1148rg.242035193-g04mr34g0-Fig8c-day10.jpeg  \n",
            "  inflating: Dataset/Prediction/SARS-10.1148rg.242035193-g04mr34g04a-Fig4a-day7.jpeg  \n",
            "  inflating: Dataset/Prediction/SARS-10.1148rg.242035193-g04mr34g04b-Fig4b-day12.jpeg  \n",
            "  inflating: Dataset/Prediction/SARS-10.1148rg.242035193-g04mr34g05x-Fig5-day9.jpeg  \n",
            "  inflating: Dataset/Prediction/ryct.2020200028.fig1a.jpeg  \n",
            "  inflating: Dataset/Prediction/ryct.2020200034.fig2.jpeg  \n",
            "  inflating: Dataset/Prediction/ryct.2020200034.fig5-day0.jpeg  \n",
            "  inflating: Dataset/Prediction/ryct.2020200034.fig5-day4.jpeg  \n",
            "  inflating: Dataset/Prediction/ryct.2020200034.fig5-day7.jpeg  \n",
            "  inflating: Dataset/Train/Covid/01E392EE-69F9-4E33-BFCE-E5C968654078.jpeg  \n",
            "  inflating: Dataset/Train/Covid/03BF7561-A9BA-4C3C-B8A0-D3E585F73F3C.jpeg  \n",
            "  inflating: Dataset/Train/Covid/1-s2.0-S0140673620303706-fx1_lrg.jpg  \n",
            "  inflating: Dataset/Train/Covid/1-s2.0-S0929664620300449-gr2_lrg-a.jpg  \n",
            "  inflating: Dataset/Train/Covid/1-s2.0-S0929664620300449-gr2_lrg-b.jpg  \n",
            "  inflating: Dataset/Train/Covid/1-s2.0-S0929664620300449-gr2_lrg-c.jpg  \n",
            "  inflating: Dataset/Train/Covid/1-s2.0-S0929664620300449-gr2_lrg-d.jpg  \n",
            "  inflating: Dataset/Train/Covid/1-s2.0-S1684118220300608-main.pdf-001.jpg  \n",
            "  inflating: Dataset/Train/Covid/1-s2.0-S1684118220300608-main.pdf-002.jpg  \n",
            "  inflating: Dataset/Train/Covid/1-s2.0-S1684118220300682-main.pdf-002-a1.png  \n",
            "  inflating: Dataset/Train/Covid/1-s2.0-S1684118220300682-main.pdf-002-a2.png  \n",
            "  inflating: Dataset/Train/Covid/1-s2.0-S1684118220300682-main.pdf-003-b1.png  \n",
            "  inflating: Dataset/Train/Covid/1-s2.0-S1684118220300682-main.pdf-003-b2.png  \n",
            "  inflating: Dataset/Train/Covid/1.CXRCTThoraximagesofCOVID-19fromSingapore.pdf-000-fig1a.png  \n",
            "  inflating: Dataset/Train/Covid/1.CXRCTThoraximagesofCOVID-19fromSingapore.pdf-000-fig1b.png  \n",
            "  inflating: Dataset/Train/Covid/1.CXRCTThoraximagesofCOVID-19fromSingapore.pdf-001-fig2a.png  \n",
            "  inflating: Dataset/Train/Covid/1.CXRCTThoraximagesofCOVID-19fromSingapore.pdf-001-fig2b.png  \n",
            "  inflating: Dataset/Train/Covid/1.CXRCTThoraximagesofCOVID-19fromSingapore.pdf-002-fig3a.png  \n",
            "  inflating: Dataset/Train/Covid/1.CXRCTThoraximagesofCOVID-19fromSingapore.pdf-002-fig3b.png  \n",
            "  inflating: Dataset/Train/Covid/1.CXRCTThoraximagesofCOVID-19fromSingapore.pdf-003-fig4a.png  \n",
            "  inflating: Dataset/Train/Covid/1.CXRCTThoraximagesofCOVID-19fromSingapore.pdf-003-fig4b.png  \n",
            "  inflating: Dataset/Train/Covid/1312A392-67A3-4EBF-9319-810CF6DA5EF6.jpeg  \n",
            "  inflating: Dataset/Train/Covid/16654_1_1.png  \n",
            "  inflating: Dataset/Train/Covid/16654_2_1.jpg  \n",
            "  inflating: Dataset/Train/Covid/16654_4_1.jpg  \n",
            "  inflating: Dataset/Train/Covid/16660_1_1.jpg  \n",
            "  inflating: Dataset/Train/Covid/16660_2_1.jpg  \n",
            "  inflating: Dataset/Train/Covid/16660_3_1.jpg  \n",
            "  inflating: Dataset/Train/Covid/16660_4_1.jpg  \n",
            "  inflating: Dataset/Train/Covid/16663_1_1.jpg  \n",
            "  inflating: Dataset/Train/Covid/16664_1_1.jpg  \n",
            "  inflating: Dataset/Train/Covid/16669_1_1.jpeg  \n",
            "  inflating: Dataset/Train/Covid/16669_3_1.jpeg  \n",
            "  inflating: Dataset/Train/Covid/16672_1_1.jpg  \n",
            "  inflating: Dataset/Train/Covid/16708_1_1.jpg  \n",
            "  inflating: Dataset/Train/Covid/16708_4_1.jpg  \n",
            "  inflating: Dataset/Train/Covid/16708_5_1.jpg  \n",
            "  inflating: Dataset/Train/Covid/1B734A89-A1BF-49A8-A1D3-66FAFA4FAC5D.jpeg  \n",
            "  inflating: Dataset/Train/Covid/2-chest-filmc.jpg  \n",
            "  inflating: Dataset/Train/Covid/23E99E2E-447C-46E5-8EB2-D35D12473C39.png  \n",
            "  inflating: Dataset/Train/Covid/2966893D-5DDF-4B68-9E2B-4979D5956C8E.jpeg  \n",
            "  inflating: Dataset/Train/Covid/2C26F453-AF3B-4517-BB9E-802CF2179543.jpeg  \n",
            "  inflating: Dataset/Train/Covid/31BA3780-2323-493F-8AED-62081B9C383B.jpeg  \n",
            "  inflating: Dataset/Train/Covid/353889E0-A1E8-4F9E-A0B8-F24F36BCFBFB.jpeg  \n",
            "  inflating: Dataset/Train/Covid/4-x-day1.jpg  \n",
            "  inflating: Dataset/Train/Covid/41591_2020_819_Fig1_HTML.webp-day10.png  \n",
            "  inflating: Dataset/Train/Covid/41591_2020_819_Fig1_HTML.webp-day5.png  \n",
            "  inflating: Dataset/Train/Covid/4e43e48d52c9e2d4c6c1fb9bc1544f_jumbo.jpeg  \n",
            "  inflating: Dataset/Train/Covid/53EC07C9-5CC6-4BE4-9B6F-D7B0D72AAA7E.jpeg  \n",
            "  inflating: Dataset/Train/Covid/58cb9263f16e94305c730685358e4e_jumbo.jpeg  \n",
            "  inflating: Dataset/Train/Covid/6C94A287-C059-46A0-8600-AFB95F4727B7.jpeg  \n",
            "  inflating: Dataset/Train/Covid/6CB4EFC6-68FA-4CD5-940C-BEFA8DAFE9A7.jpeg  \n",
            "  inflating: Dataset/Train/Covid/6b3bdbc31f65230b8cdcc3cef5f8ba8a-40ac-0.jpg  \n",
            "  inflating: Dataset/Train/Covid/6b44464d-73a7-4cf3-bbb6-ffe7168300e3.annot.original.jpeg  \n",
            "  inflating: Dataset/Train/Covid/7-fatal-covid19.jpg  \n",
            "  inflating: Dataset/Train/Covid/7AF6C1AF-D249-4BD2-8C26-449304105D03.jpeg  \n",
            "  inflating: Dataset/Train/Covid/7C69C012-7479-493F-8722-ABC29C60A2DD.jpeg  \n",
            "  inflating: Dataset/Train/Covid/80446565-E090-4187-A031-9D3CEAA586C8.jpeg  \n",
            "  inflating: Dataset/Train/Covid/85E52EB3-56E9-4D67-82DA-DEA247C82886.jpeg  \n",
            "  inflating: Dataset/Train/Covid/88de9d8c39e946abd495b37cd07d89e5-2ee6-0.jpg  \n",
            "  inflating: Dataset/Train/Covid/88de9d8c39e946abd495b37cd07d89e5-6531-0.jpg  \n",
            "  inflating: Dataset/Train/Covid/8FDE8DBA-CFBD-4B4C-B1A4-6F36A93B7E87.jpeg  \n",
            "  inflating: Dataset/Train/Covid/93FE0BB1-022D-4F24-9727-987A07975FFB.jpeg  \n",
            "  inflating: Dataset/Train/Covid/9C34AF49-E589-44D5-92D3-168B3B04E4A6.jpeg  \n",
            "  inflating: Dataset/Train/Covid/9fdd3c3032296fd04d2cad5d9070d4_jumbo.jpeg  \n",
            "  inflating: Dataset/Train/Covid/AR-1.jpg  \n",
            "  inflating: Dataset/Train/Covid/AR-2.jpg  \n",
            "  inflating: Dataset/Train/Covid/B2D20576-00B7-4519-A415-72DE29C90C34.jpeg  \n",
            "  inflating: Dataset/Train/Covid/CD50BA96-6982-4C80-AE7B-5F67ACDBFA56.jpeg  \n",
            "  inflating: Dataset/Train/Covid/E63574A7-4188-4C8D-8D17-9D67A18A1AFA.jpeg  \n",
            "  inflating: Dataset/Train/Covid/F2DE909F-E19C-4900-92F5-8F435B031AC6.jpeg  \n",
            "  inflating: Dataset/Train/Covid/F4341CE7-73C9-45C6-99C8-8567A5484B63.jpeg  \n",
            "  inflating: Dataset/Train/Covid/F63AB6CE-1968-4154-A70F-913AF154F53D.jpeg  \n",
            "  inflating: Dataset/Train/Covid/FE9F9A5D-2830-46F9-851B-1FF4534959BE.jpeg  \n",
            "  inflating: Dataset/Train/Covid/ae6c954c0039de4b5edee53865ffee43-e6c8-0.jpg  \n",
            "  inflating: Dataset/Train/Covid/all14238-fig-0001-m-b.jpg  \n",
            "  inflating: Dataset/Train/Covid/all14238-fig-0001-m-c.jpg  \n",
            "  inflating: Dataset/Train/Covid/auntminnie-a-2020_01_28_23_51_6665_2020_01_28_Vietnam_coronavirus.jpeg  \n",
            "  inflating: Dataset/Train/Covid/auntminnie-b-2020_01_28_23_51_6665_2020_01_28_Vietnam_coronavirus.jpeg  \n",
            "  inflating: Dataset/Train/Covid/auntminnie-c-2020_01_28_23_51_6665_2020_01_28_Vietnam_coronavirus.jpeg  \n",
            "  inflating: Dataset/Train/Covid/auntminnie-d-2020_01_28_23_51_6665_2020_01_28_Vietnam_coronavirus.jpeg  \n",
            "  inflating: Dataset/Train/Covid/ciaa199.pdf-001-a.png  \n",
            "  inflating: Dataset/Train/Covid/ciaa199.pdf-001-b.png  \n",
            "  inflating: Dataset/Train/Covid/ciaa199.pdf-001-c.png  \n",
            "  inflating: Dataset/Train/Covid/covid-19-caso-70-1-PA.jpg  \n",
            "  inflating: Dataset/Train/Covid/covid-19-infection-exclusive-gastrointestinal-symptoms-pa.png  \n",
            "  inflating: Dataset/Train/Covid/covid-19-pneumonia-12.jpg  \n",
            "  inflating: Dataset/Train/Covid/covid-19-pneumonia-14-PA.png  \n",
            "  inflating: Dataset/Train/Covid/covid-19-pneumonia-15-PA.jpg  \n",
            "  inflating: Dataset/Train/Covid/covid-19-pneumonia-19.jpg  \n",
            "  inflating: Dataset/Train/Covid/covid-19-pneumonia-2.jpg  \n",
            "  inflating: Dataset/Train/Covid/covid-19-pneumonia-20-pa-on-admission.jpg  \n",
            "  inflating: Dataset/Train/Covid/covid-19-pneumonia-20.jpg  \n",
            "  inflating: Dataset/Train/Covid/covid-19-pneumonia-22-day1-pa.png  \n",
            "  inflating: Dataset/Train/Covid/covid-19-pneumonia-22-day2-pa.png  \n",
            "  inflating: Dataset/Train/Covid/covid-19-pneumonia-28.png  \n",
            "  inflating: Dataset/Train/Covid/covid-19-pneumonia-30-PA.jpg  \n",
            "  inflating: Dataset/Train/Covid/covid-19-pneumonia-34.png  \n",
            "  inflating: Dataset/Train/Covid/covid-19-pneumonia-35-1.jpg  \n",
            "  inflating: Dataset/Train/Covid/covid-19-pneumonia-35-2.jpg  \n",
            "  inflating: Dataset/Train/Covid/covid-19-pneumonia-38-pa.jpg  \n",
            "  inflating: Dataset/Train/Covid/covid-19-pneumonia-44-day-0.jpeg  \n",
            "  inflating: Dataset/Train/Covid/covid-19-pneumonia-53.jpg  \n",
            "  inflating: Dataset/Train/Covid/covid-19-pneumonia-58-day-10.jpg  \n",
            "  inflating: Dataset/Train/Covid/covid-19-pneumonia-58-day-3.jpg  \n",
            "  inflating: Dataset/Train/Covid/covid-19-pneumonia-58-day-7.jpg  \n",
            "  inflating: Dataset/Train/Covid/covid-19-pneumonia-58-day-9.jpg  \n",
            "  inflating: Dataset/Train/Covid/covid-19-pneumonia-67.jpeg  \n",
            "  inflating: Dataset/Train/Covid/covid-19-pneumonia-7-PA.jpg  \n",
            "  inflating: Dataset/Train/Covid/covid-19-pneumonia-8.jpg  \n",
            "  inflating: Dataset/Train/Covid/covid-19-pneumonia-bilateral.jpg  \n",
            "  inflating: Dataset/Train/Covid/covid-19-pneumonia-evolution-over-a-week-1-day0-PA.jpg  \n",
            "  inflating: Dataset/Train/Covid/covid-19-pneumonia-mild.JPG  \n",
            "  inflating: Dataset/Train/Covid/extubation-1.jpg  \n",
            "  inflating: Dataset/Train/Covid/extubation-13.jpg  \n",
            "  inflating: Dataset/Train/Covid/extubation-4.jpg  \n",
            "  inflating: Dataset/Train/Covid/extubation-8.jpg  \n",
            "  inflating: Dataset/Train/Covid/fff49165-b22d-4bb4-b9d1-d5d62c52436c.annot.original.png  \n",
            "  inflating: Dataset/Train/Covid/figure1-5e71be566aa8714a04de3386-98-left.jpeg  \n",
            "  inflating: Dataset/Train/Covid/figure1-5e75d0940b71e1b702629659-98-right.jpeg  \n",
            "  inflating: Dataset/Train/Covid/gr1_lrg-a.jpg  \n",
            "  inflating: Dataset/Train/Covid/gr1_lrg-b.jpg  \n",
            "  inflating: Dataset/Train/Covid/kjr-21-e24-g001-l-a.jpg  \n",
            "  inflating: Dataset/Train/Covid/kjr-21-e24-g002-l-a.jpg  \n",
            "  inflating: Dataset/Train/Covid/kjr-21-e24-g003-l-a.jpg  \n",
            "  inflating: Dataset/Train/Covid/kjr-21-e25-g001-l-a.jpg  \n",
            "  inflating: Dataset/Train/Covid/lancet-case2a.jpg  \n",
            "  inflating: Dataset/Train/Covid/lancet-case2b.jpg  \n",
            "  inflating: Dataset/Train/Covid/nCoV-radiol.2020200269.fig1-day7.jpeg  \n",
            "  inflating: Dataset/Train/Covid/nejmc2001573_f1a.jpeg  \n",
            "  inflating: Dataset/Train/Covid/nejmc2001573_f1b.jpeg  \n",
            "  inflating: Dataset/Train/Covid/nejmoa2001191_f1-PA.jpeg  \n",
            "  inflating: Dataset/Train/Covid/nejmoa2001191_f3-PA.jpeg  \n",
            "  inflating: Dataset/Train/Covid/nejmoa2001191_f4.jpeg  \n",
            "  inflating: Dataset/Train/Covid/nejmoa2001191_f5-PA.jpeg  \n",
            "  inflating: Dataset/Train/Covid/paving.jpg  \n",
            "  inflating: Dataset/Train/Covid/radiol.2020200274.fig3d.png  \n",
            "  inflating: Dataset/Train/Covid/radiol.2020200490.fig3.jpeg  \n",
            "  inflating: Dataset/Train/Covid/ryct.2020200028.fig1a.jpeg  \n",
            "  inflating: Dataset/Train/Covid/ryct.2020200034.fig2.jpeg  \n",
            "  inflating: Dataset/Train/Covid/ryct.2020200034.fig5-day0.jpeg  \n",
            "  inflating: Dataset/Train/Covid/ryct.2020200034.fig5-day4.jpeg  \n",
            "  inflating: Dataset/Train/Covid/ryct.2020200034.fig5-day7.jpeg  \n",
            "  inflating: Dataset/Train/Covid/yxppt-2020-02-19_00-51-27_287214-day8.jpg  \n",
            "  inflating: Dataset/Train/Normal/IM-0140-0001.jpeg  \n",
            "  inflating: Dataset/Train/Normal/IM-0151-0001.jpeg  \n",
            "  inflating: Dataset/Train/Normal/IM-0158-0001.jpeg  \n",
            "  inflating: Dataset/Train/Normal/IM-0172-0001.jpeg  \n",
            "  inflating: Dataset/Train/Normal/IM-0189-0001.jpeg  \n",
            "  inflating: Dataset/Train/Normal/IM-0214-0001.jpeg  \n",
            "  inflating: Dataset/Train/Normal/IM-0215-0001.jpeg  \n",
            "  inflating: Dataset/Train/Normal/IM-0222-0001.jpeg  \n",
            "  inflating: Dataset/Train/Normal/IM-0235-0001.jpeg  \n",
            "  inflating: Dataset/Train/Normal/IM-0241-0001.jpeg  \n",
            "  inflating: Dataset/Train/Normal/IM-0243-0001.jpeg  \n",
            "  inflating: Dataset/Train/Normal/IM-0256-0001.jpeg  \n",
            "  inflating: Dataset/Train/Normal/IM-0272-0001.jpeg  \n",
            "  inflating: Dataset/Train/Normal/IM-0276-0001.jpeg  \n",
            "  inflating: Dataset/Train/Normal/IM-0292-0001.jpeg  \n",
            "  inflating: Dataset/Train/Normal/IM-0295-0001.jpeg  \n",
            "  inflating: Dataset/Train/Normal/IM-0311-0001.jpeg  \n",
            "  inflating: Dataset/Train/Normal/IM-0313-0001.jpeg  \n",
            "  inflating: Dataset/Train/Normal/IM-0347-0001.jpeg  \n",
            "  inflating: Dataset/Train/Normal/IM-0361-0001.jpeg  \n",
            "  inflating: Dataset/Train/Normal/IM-0374-0001.jpeg  \n",
            "  inflating: Dataset/Train/Normal/IM-0375-0001.jpeg  \n",
            "  inflating: Dataset/Train/Normal/IM-0377-0001.jpeg  \n",
            "  inflating: Dataset/Train/Normal/IM-0379-0001.jpeg  \n",
            "  inflating: Dataset/Train/Normal/IM-0395-0001.jpeg  \n",
            "  inflating: Dataset/Train/Normal/IM-0437-0001-0002.jpeg  \n",
            "  inflating: Dataset/Train/Normal/IM-0437-0001.jpeg  \n",
            "  inflating: Dataset/Train/Normal/IM-0439-0001.jpeg  \n",
            "  inflating: Dataset/Train/Normal/IM-0448-0001.jpeg  \n",
            "  inflating: Dataset/Train/Normal/IM-0449-0001.jpeg  \n",
            "  inflating: Dataset/Train/Normal/IM-0458-0001.jpeg  \n",
            "  inflating: Dataset/Train/Normal/IM-0478-0001.jpeg  \n",
            "  inflating: Dataset/Train/Normal/IM-0486-0001.jpeg  \n",
            "  inflating: Dataset/Train/Normal/IM-0492-0001.jpeg  \n",
            "  inflating: Dataset/Train/Normal/IM-0496-0001.jpeg  \n",
            "  inflating: Dataset/Train/Normal/IM-0497-0001-0001.jpeg  \n",
            "  inflating: Dataset/Train/Normal/IM-0502-0001.jpeg  \n",
            "  inflating: Dataset/Train/Normal/IM-0504-0001.jpeg  \n",
            "  inflating: Dataset/Train/Normal/IM-0506-0001.jpeg  \n",
            "  inflating: Dataset/Train/Normal/IM-0517-0001-0001.jpeg  \n",
            "  inflating: Dataset/Train/Normal/IM-0520-0001.jpeg  \n",
            "  inflating: Dataset/Train/Normal/IM-0523-0001-0002.jpeg  \n",
            "  inflating: Dataset/Train/Normal/IM-0523-0001.jpeg  \n",
            "  inflating: Dataset/Train/Normal/IM-0530-0001.jpeg  \n",
            "  inflating: Dataset/Train/Normal/IM-0531-0001-0001.jpeg  \n",
            "  inflating: Dataset/Train/Normal/IM-0549-0001.jpeg  \n",
            "  inflating: Dataset/Train/Normal/IM-0575-0001.jpeg  \n",
            "  inflating: Dataset/Train/Normal/IM-0598-0001.jpeg  \n",
            "  inflating: Dataset/Train/Normal/IM-0612-0001-0002.jpeg  \n",
            "  inflating: Dataset/Train/Normal/IM-0613-0001.jpeg  \n",
            "  inflating: Dataset/Train/Normal/IM-0622-0001-0002.jpeg  \n",
            "  inflating: Dataset/Train/Normal/IM-0623-0001.jpeg  \n",
            "  inflating: Dataset/Train/Normal/IM-0635-0001.jpeg  \n",
            "  inflating: Dataset/Train/Normal/IM-0650-0001-0002.jpeg  \n",
            "  inflating: Dataset/Train/Normal/IM-0656-0001.jpeg  \n",
            "  inflating: Dataset/Train/Normal/IM-0658-0001.jpeg  \n",
            "  inflating: Dataset/Train/Normal/IM-0673-0001.jpeg  \n",
            "  inflating: Dataset/Train/Normal/IM-0676-0001.jpeg  \n",
            "  inflating: Dataset/Train/Normal/IM-0681-0001.jpeg  \n",
            "  inflating: Dataset/Train/Normal/IM-0688-0001.jpeg  \n",
            "  inflating: Dataset/Train/Normal/IM-0691-0001.jpeg  \n",
            "  inflating: Dataset/Train/Normal/IM-0692-0001.jpeg  \n",
            "  inflating: Dataset/Train/Normal/IM-0700-0001.jpeg  \n",
            "  inflating: Dataset/Train/Normal/IM-0701-0001.jpeg  \n",
            "  inflating: Dataset/Train/Normal/IM-0704-0001.jpeg  \n",
            "  inflating: Dataset/Train/Normal/IM-0705-0001.jpeg  \n",
            "  inflating: Dataset/Train/Normal/IM-0706-0001.jpeg  \n",
            "  inflating: Dataset/Train/Normal/IM-0716-0001.jpeg  \n",
            "  inflating: Dataset/Train/Normal/IM-0732-0001.jpeg  \n",
            "  inflating: Dataset/Train/Normal/IM-0752-0001.jpeg  \n",
            "  inflating: Dataset/Train/Normal/NORMAL2-IM-0384-0001.jpeg  \n",
            "  inflating: Dataset/Train/Normal/NORMAL2-IM-0393-0001.jpeg  \n",
            "  inflating: Dataset/Train/Normal/NORMAL2-IM-0395-0001-0001.jpeg  \n",
            "  inflating: Dataset/Train/Normal/NORMAL2-IM-0433-0001.jpeg  \n",
            "  inflating: Dataset/Train/Normal/NORMAL2-IM-0439-0001.jpeg  \n",
            "  inflating: Dataset/Train/Normal/NORMAL2-IM-0449-0001.jpeg  \n",
            "  inflating: Dataset/Train/Normal/NORMAL2-IM-0462-0001.jpeg  \n",
            "  inflating: Dataset/Train/Normal/NORMAL2-IM-0472-0001.jpeg  \n",
            "  inflating: Dataset/Train/Normal/NORMAL2-IM-0482-0001.jpeg  \n",
            "  inflating: Dataset/Train/Normal/NORMAL2-IM-0497-0001.jpeg  \n",
            "  inflating: Dataset/Train/Normal/NORMAL2-IM-0552-0001.jpeg  \n",
            "  inflating: Dataset/Train/Normal/NORMAL2-IM-0555-0001-0001.jpeg  \n",
            "  inflating: Dataset/Train/Normal/NORMAL2-IM-0559-0001.jpeg  \n",
            "  inflating: Dataset/Train/Normal/NORMAL2-IM-0571-0001.jpeg  \n",
            "  inflating: Dataset/Train/Normal/NORMAL2-IM-0577-0001.jpeg  \n",
            "  inflating: Dataset/Train/Normal/NORMAL2-IM-0582-0001.jpeg  \n",
            "  inflating: Dataset/Train/Normal/NORMAL2-IM-0588-0001.jpeg  \n",
            "  inflating: Dataset/Train/Normal/NORMAL2-IM-0589-0001.jpeg  \n",
            "  inflating: Dataset/Train/Normal/NORMAL2-IM-0602-0001.jpeg  \n",
            "  inflating: Dataset/Train/Normal/NORMAL2-IM-0627-0001.jpeg  \n",
            "  inflating: Dataset/Train/Normal/NORMAL2-IM-0630-0001.jpeg  \n",
            "  inflating: Dataset/Train/Normal/NORMAL2-IM-0636-0001.jpeg  \n",
            "  inflating: Dataset/Train/Normal/NORMAL2-IM-0643-0001.jpeg  \n",
            "  inflating: Dataset/Train/Normal/NORMAL2-IM-0683-0001.jpeg  \n",
            "  inflating: Dataset/Train/Normal/NORMAL2-IM-0687-0001.jpeg  \n",
            "  inflating: Dataset/Train/Normal/NORMAL2-IM-0689-0001.jpeg  \n",
            "  inflating: Dataset/Train/Normal/NORMAL2-IM-0692-0001.jpeg  \n",
            "  inflating: Dataset/Train/Normal/NORMAL2-IM-0693-0001.jpeg  \n",
            "  inflating: Dataset/Train/Normal/NORMAL2-IM-0694-0001.jpeg  \n",
            "  inflating: Dataset/Train/Normal/NORMAL2-IM-0771-0001.jpeg  \n",
            "  inflating: Dataset/Train/Normal/NORMAL2-IM-0775-0001.jpeg  \n",
            "  inflating: Dataset/Train/Normal/NORMAL2-IM-0776-0001.jpeg  \n",
            "  inflating: Dataset/Train/Normal/NORMAL2-IM-0790-0001.jpeg  \n",
            "  inflating: Dataset/Train/Normal/NORMAL2-IM-0807-0001.jpeg  \n",
            "  inflating: Dataset/Train/Normal/NORMAL2-IM-0816-0001.jpeg  \n",
            "  inflating: Dataset/Train/Normal/NORMAL2-IM-0842-0001.jpeg  \n",
            "  inflating: Dataset/Train/Normal/NORMAL2-IM-0858-0001.jpeg  \n",
            "  inflating: Dataset/Train/Normal/NORMAL2-IM-0866-0001.jpeg  \n",
            "  inflating: Dataset/Train/Normal/NORMAL2-IM-0876-0001.jpeg  \n",
            "  inflating: Dataset/Train/Normal/NORMAL2-IM-0892-0001.jpeg  \n",
            "  inflating: Dataset/Train/Normal/NORMAL2-IM-0911-0001.jpeg  \n",
            "  inflating: Dataset/Train/Normal/NORMAL2-IM-0915-0001.jpeg  \n",
            "  inflating: Dataset/Train/Normal/NORMAL2-IM-0927-0001.jpeg  \n",
            "  inflating: Dataset/Train/Normal/NORMAL2-IM-0942-0001.jpeg  \n",
            "  inflating: Dataset/Train/Normal/NORMAL2-IM-0947-0001.jpeg  \n",
            "  inflating: Dataset/Train/Normal/NORMAL2-IM-0959-0001.jpeg  \n",
            "  inflating: Dataset/Train/Normal/NORMAL2-IM-0967-0001.jpeg  \n",
            "  inflating: Dataset/Train/Normal/NORMAL2-IM-0977-0001.jpeg  \n",
            "  inflating: Dataset/Train/Normal/NORMAL2-IM-0978-0001.jpeg  \n",
            "  inflating: Dataset/Train/Normal/NORMAL2-IM-0999-0001.jpeg  \n",
            "  inflating: Dataset/Train/Normal/NORMAL2-IM-1010-0001.jpeg  \n",
            "  inflating: Dataset/Train/Normal/NORMAL2-IM-1014-0001.jpeg  \n",
            "  inflating: Dataset/Train/Normal/NORMAL2-IM-1022-0001.jpeg  \n",
            "  inflating: Dataset/Train/Normal/NORMAL2-IM-1037-0001.jpeg  \n",
            "  inflating: Dataset/Train/Normal/NORMAL2-IM-1040-0001.jpeg  \n",
            "  inflating: Dataset/Train/Normal/NORMAL2-IM-1094-0001-0001.jpeg  \n",
            "  inflating: Dataset/Train/Normal/NORMAL2-IM-1096-0001-0001.jpeg  \n",
            "  inflating: Dataset/Train/Normal/NORMAL2-IM-1102-0001-0002.jpeg  \n",
            "  inflating: Dataset/Train/Normal/NORMAL2-IM-1112-0001.jpeg  \n",
            "  inflating: Dataset/Train/Normal/NORMAL2-IM-1142-0001-0001.jpeg  \n",
            "  inflating: Dataset/Train/Normal/NORMAL2-IM-1154-0001.jpeg  \n",
            "  inflating: Dataset/Train/Normal/NORMAL2-IM-1156-0001.jpeg  \n",
            "  inflating: Dataset/Train/Normal/NORMAL2-IM-1164-0001.jpeg  \n",
            "  inflating: Dataset/Train/Normal/NORMAL2-IM-1182-0001.jpeg  \n",
            "  inflating: Dataset/Train/Normal/NORMAL2-IM-1250-0001.jpeg  \n",
            "  inflating: Dataset/Train/Normal/NORMAL2-IM-1261-0001.jpeg  \n",
            "  inflating: Dataset/Train/Normal/NORMAL2-IM-1264-0001.jpeg  \n",
            "  inflating: Dataset/Train/Normal/NORMAL2-IM-1274-0001.jpeg  \n",
            "  inflating: Dataset/Train/Normal/NORMAL2-IM-1289-0001.jpeg  \n",
            "  inflating: Dataset/Train/Normal/NORMAL2-IM-1294-0001-0001.jpeg  \n",
            "  inflating: Dataset/Train/Normal/NORMAL2-IM-1342-0001.jpeg  \n",
            "  inflating: Dataset/Train/Normal/NORMAL2-IM-1347-0001.jpeg  \n",
            "  inflating: Dataset/Train/Normal/NORMAL2-IM-1356-0001.jpeg  \n",
            "  inflating: Dataset/Train/Normal/NORMAL2-IM-1396-0001.jpeg  \n",
            "  inflating: Dataset/Val/Covid/16654_1_1.png  \n",
            "  inflating: Dataset/Val/Covid/16654_2_1.jpg  \n",
            "  inflating: Dataset/Val/Covid/16654_4_1.jpg  \n",
            "  inflating: Dataset/Val/Covid/23E99E2E-447C-46E5-8EB2-D35D12473C39.png  \n",
            "  inflating: Dataset/Val/Covid/31BA3780-2323-493F-8AED-62081B9C383B.jpeg  \n",
            "  inflating: Dataset/Val/Covid/353889E0-A1E8-4F9E-A0B8-F24F36BCFBFB.jpeg  \n",
            "  inflating: Dataset/Val/Covid/4-x-day1.jpg  \n",
            "  inflating: Dataset/Val/Covid/41591_2020_819_Fig1_HTML.webp-day10.png  \n",
            "  inflating: Dataset/Val/Covid/41591_2020_819_Fig1_HTML.webp-day5.png  \n",
            "  inflating: Dataset/Val/Covid/4e43e48d52c9e2d4c6c1fb9bc1544f_jumbo.jpeg  \n",
            "  inflating: Dataset/Val/Covid/53EC07C9-5CC6-4BE4-9B6F-D7B0D72AAA7E.jpeg  \n",
            "  inflating: Dataset/Val/Covid/58cb9263f16e94305c730685358e4e_jumbo.jpeg  \n",
            "  inflating: Dataset/Val/Covid/6C94A287-C059-46A0-8600-AFB95F4727B7.jpeg  \n",
            "  inflating: Dataset/Val/Covid/6CB4EFC6-68FA-4CD5-940C-BEFA8DAFE9A7.jpeg  \n",
            "  inflating: Dataset/Val/Covid/6b3bdbc31f65230b8cdcc3cef5f8ba8a-40ac-0.jpg  \n",
            "  inflating: Dataset/Val/Covid/6b44464d-73a7-4cf3-bbb6-ffe7168300e3.annot.original.jpeg  \n",
            "  inflating: Dataset/Val/Covid/7AF6C1AF-D249-4BD2-8C26-449304105D03.jpeg  \n",
            "  inflating: Dataset/Val/Covid/7C69C012-7479-493F-8722-ABC29C60A2DD.jpeg  \n",
            "  inflating: Dataset/Val/Covid/85E52EB3-56E9-4D67-82DA-DEA247C82886.jpeg  \n",
            "  inflating: Dataset/Val/Covid/88de9d8c39e946abd495b37cd07d89e5-2ee6-0.jpg  \n",
            "  inflating: Dataset/Val/Covid/88de9d8c39e946abd495b37cd07d89e5-6531-0.jpg  \n",
            "  inflating: Dataset/Val/Covid/B2D20576-00B7-4519-A415-72DE29C90C34.jpeg  \n",
            "  inflating: Dataset/Val/Covid/auntminnie-c-2020_01_28_23_51_6665_2020_01_28_Vietnam_coronavirus.jpeg  \n",
            "  inflating: Dataset/Val/Covid/auntminnie-d-2020_01_28_23_51_6665_2020_01_28_Vietnam_coronavirus.jpeg  \n",
            "  inflating: Dataset/Val/Covid/covid-19-pneumonia-12.jpg  \n",
            "  inflating: Dataset/Val/Covid/covid-19-pneumonia-14-PA.png  \n",
            "  inflating: Dataset/Val/Covid/covid-19-pneumonia-35-1.jpg  \n",
            "  inflating: Dataset/Val/Covid/covid-19-pneumonia-35-2.jpg  \n",
            "  inflating: Dataset/Val/Covid/covid-19-pneumonia-53.jpg  \n",
            "  inflating: Dataset/Val/Covid/covid-19-pneumonia-8.jpg  \n",
            "  inflating: Dataset/Val/Normal/NORMAL2-IM-0395-0001.jpeg  \n",
            "  inflating: Dataset/Val/Normal/NORMAL2-IM-0408-0001.jpeg  \n",
            "  inflating: Dataset/Val/Normal/NORMAL2-IM-0416-0001-0001.jpeg  \n",
            "  inflating: Dataset/Val/Normal/NORMAL2-IM-0441-0001.jpeg  \n",
            "  inflating: Dataset/Val/Normal/NORMAL2-IM-0462-0001.jpeg  \n",
            "  inflating: Dataset/Val/Normal/NORMAL2-IM-0535-0001-0002.jpeg  \n",
            "  inflating: Dataset/Val/Normal/NORMAL2-IM-0652-0001.jpeg  \n",
            "  inflating: Dataset/Val/Normal/NORMAL2-IM-0678-0001.jpeg  \n",
            "  inflating: Dataset/Val/Normal/NORMAL2-IM-0730-0001.jpeg  \n",
            "  inflating: Dataset/Val/Normal/NORMAL2-IM-0765-0001.jpeg  \n",
            "  inflating: Dataset/Val/Normal/NORMAL2-IM-0790-0001.jpeg  \n",
            "  inflating: Dataset/Val/Normal/NORMAL2-IM-0842-0001.jpeg  \n",
            "  inflating: Dataset/Val/Normal/NORMAL2-IM-0851-0001-0001.jpeg  \n",
            "  inflating: Dataset/Val/Normal/NORMAL2-IM-0851-0001.jpeg  \n",
            "  inflating: Dataset/Val/Normal/NORMAL2-IM-0857-0001.jpeg  \n",
            "  inflating: Dataset/Val/Normal/NORMAL2-IM-0859-0001.jpeg  \n",
            "  inflating: Dataset/Val/Normal/NORMAL2-IM-0869-0001.jpeg  \n",
            "  inflating: Dataset/Val/Normal/NORMAL2-IM-0873-0001.jpeg  \n",
            "  inflating: Dataset/Val/Normal/NORMAL2-IM-0894-0001.jpeg  \n",
            "  inflating: Dataset/Val/Normal/NORMAL2-IM-0905-0001.jpeg  \n",
            "  inflating: Dataset/Val/Normal/NORMAL2-IM-0914-0001.jpeg  \n",
            "  inflating: Dataset/Val/Normal/NORMAL2-IM-1022-0001.jpeg  \n",
            "  inflating: Dataset/Val/Normal/NORMAL2-IM-1037-0001.jpeg  \n",
            "  inflating: Dataset/Val/Normal/NORMAL2-IM-1045-0001.jpeg  \n",
            "  inflating: Dataset/Val/Normal/NORMAL2-IM-1060-0001.jpeg  \n",
            "  inflating: Dataset/Val/Normal/NORMAL2-IM-1191-0001.jpeg  \n",
            "  inflating: Dataset/Val/Normal/NORMAL2-IM-1228-0001.jpeg  \n",
            "  inflating: Dataset/Val/Normal/NORMAL2-IM-1237-0001.jpeg  \n",
            "  inflating: Dataset/Val/Normal/NORMAL2-IM-1240-0001.jpeg  \n",
            "  inflating: Dataset/Val/Normal/NORMAL2-IM-1275-0001.jpeg  \n"
          ]
        }
      ]
    },
    {
      "cell_type": "code",
      "source": [
        "import pandas as pd\n",
        "import os\n",
        "import shutil\n",
        "import warnings\n",
        "print(os.listdir(\"/content/Dataset\"))"
      ],
      "metadata": {
        "colab": {
          "base_uri": "https://localhost:8080/"
        },
        "id": "GbLDuTdFtBcM",
        "outputId": "b2aad0bc-a022-45e1-b2ac-c49d0943578d"
      },
      "execution_count": 7,
      "outputs": [
        {
          "output_type": "stream",
          "name": "stdout",
          "text": [
            "['Train', 'Val', 'Prediction']\n"
          ]
        }
      ]
    },
    {
      "cell_type": "code",
      "source": [
        "TRAIN_PATH = \"/content/Dataset/Train\"\n",
        "VAL_PATH = \"/content/Dataset/Val\""
      ],
      "metadata": {
        "id": "2ayMgfH8tHFm"
      },
      "execution_count": 8,
      "outputs": []
    },
    {
      "cell_type": "code",
      "source": [
        "import numpy as np\n",
        "import matplotlib.pyplot as plt\n",
        "import keras\n",
        "from keras.layers import *\n",
        "from keras.models import *\n",
        "from keras.preprocessing import image\n",
        "import tensorflow as tf"
      ],
      "metadata": {
        "id": "cGzGWc7Ctan8"
      },
      "execution_count": 9,
      "outputs": []
    },
    {
      "cell_type": "code",
      "source": [
        "model = Sequential()\n",
        "model.add(Conv2D(32 , kernel_size=(3,3) , activation =\"relu\" , input_shape=(240,240,3)))\n",
        "\n",
        "model.add(Conv2D(64 , (3,3) , activation=\"relu\"))\n",
        "model.add(MaxPooling2D(pool_size=(2,2)))\n",
        "model.add(Dropout(0.25))\n",
        "\n",
        "model.add(Conv2D(128 , (3,3) , activation =\"relu\"))\n",
        "model.add(MaxPooling2D(pool_size=(2,2)))\n",
        "model.add(Dropout(0.25))\n",
        "\n",
        "model.add(Conv2D(256,(3,3),activation=\"relu\"))\n",
        "model.add(MaxPooling2D(pool_size=(2,2)))\n",
        "model.add(Dropout(0.25))\n",
        "\n",
        "model.add(Flatten())\n",
        "model.add(Dense(64 , activation=\"relu\"))\n",
        "model.add(Dropout(.5))\n",
        "\n",
        "model.add(Dense(1 , activation=\"sigmoid\"))"
      ],
      "metadata": {
        "id": "JAb5lmG1tcUV"
      },
      "execution_count": 10,
      "outputs": []
    },
    {
      "cell_type": "code",
      "source": [
        "model.compile(loss=keras.losses.binary_crossentropy , optimizer=\"adam\" , metrics=[\"accuracy\" ])"
      ],
      "metadata": {
        "id": "C8qAi3OrtdUm"
      },
      "execution_count": null,
      "outputs": []
    },
    {
      "cell_type": "code",
      "source": [
        "model.summary()"
      ],
      "metadata": {
        "colab": {
          "base_uri": "https://localhost:8080/"
        },
        "id": "-5UXaGOhtef0",
        "outputId": "75c2e8c1-05b5-4f74-89c8-a7ed8bdc690c"
      },
      "execution_count": 11,
      "outputs": [
        {
          "output_type": "stream",
          "name": "stdout",
          "text": [
            "Model: \"sequential\"\n",
            "_________________________________________________________________\n",
            " Layer (type)                Output Shape              Param #   \n",
            "=================================================================\n",
            " conv2d (Conv2D)             (None, 238, 238, 32)      896       \n",
            "                                                                 \n",
            " conv2d_1 (Conv2D)           (None, 236, 236, 64)      18496     \n",
            "                                                                 \n",
            " max_pooling2d (MaxPooling2  (None, 118, 118, 64)      0         \n",
            " D)                                                              \n",
            "                                                                 \n",
            " dropout (Dropout)           (None, 118, 118, 64)      0         \n",
            "                                                                 \n",
            " conv2d_2 (Conv2D)           (None, 116, 116, 128)     73856     \n",
            "                                                                 \n",
            " max_pooling2d_1 (MaxPoolin  (None, 58, 58, 128)       0         \n",
            " g2D)                                                            \n",
            "                                                                 \n",
            " dropout_1 (Dropout)         (None, 58, 58, 128)       0         \n",
            "                                                                 \n",
            " conv2d_3 (Conv2D)           (None, 56, 56, 256)       295168    \n",
            "                                                                 \n",
            " max_pooling2d_2 (MaxPoolin  (None, 28, 28, 256)       0         \n",
            " g2D)                                                            \n",
            "                                                                 \n",
            " dropout_2 (Dropout)         (None, 28, 28, 256)       0         \n",
            "                                                                 \n",
            " flatten (Flatten)           (None, 200704)            0         \n",
            "                                                                 \n",
            " dense (Dense)               (None, 64)                12845120  \n",
            "                                                                 \n",
            " dropout_3 (Dropout)         (None, 64)                0         \n",
            "                                                                 \n",
            " dense_1 (Dense)             (None, 1)                 65        \n",
            "                                                                 \n",
            "=================================================================\n",
            "Total params: 13233601 (50.48 MB)\n",
            "Trainable params: 13233601 (50.48 MB)\n",
            "Non-trainable params: 0 (0.00 Byte)\n",
            "_________________________________________________________________\n"
          ]
        }
      ]
    },
    {
      "cell_type": "code",
      "source": [
        "train_datagen = image.ImageDataGenerator(\n",
        "rescale = 1./255. ,\n",
        "shear_range = 0.2 ,\n",
        "zoom_range =0.2 ,\n",
        " horizontal_flip = True,\n",
        ")\n",
        "test_dataset = image.ImageDataGenerator(rescale = 1/255)"
      ],
      "metadata": {
        "id": "1v3j0oBWtiVl"
      },
      "execution_count": null,
      "outputs": []
    },
    {
      "cell_type": "code",
      "source": [
        "train_generator = train_datagen.flow_from_directory(\n",
        "    '/content/Dataset/Train',\n",
        "    target_size = (240,240),\n",
        "    batch_size =32 ,\n",
        "    class_mode =\"binary\"\n",
        ")"
      ],
      "metadata": {
        "colab": {
          "base_uri": "https://localhost:8080/"
        },
        "id": "uOjn9Mv_tlSU",
        "outputId": "c52932cd-414a-4b9d-ab33-f228acf5522c"
      },
      "execution_count": null,
      "outputs": [
        {
          "output_type": "stream",
          "name": "stdout",
          "text": [
            "Found 288 images belonging to 2 classes.\n"
          ]
        }
      ]
    },
    {
      "cell_type": "code",
      "source": [
        "train_generator.class_indices"
      ],
      "metadata": {
        "colab": {
          "base_uri": "https://localhost:8080/"
        },
        "id": "VZiRk4sQtpuk",
        "outputId": "3d96f0e1-308a-40e9-8a01-71e5676ef2cc"
      },
      "execution_count": null,
      "outputs": [
        {
          "output_type": "execute_result",
          "data": {
            "text/plain": [
              "{'Covid': 0, 'Normal': 1}"
            ]
          },
          "metadata": {},
          "execution_count": 20
        }
      ]
    },
    {
      "cell_type": "code",
      "source": [
        "val_generator = test_dataset.flow_from_directory(\n",
        "    '/content/Dataset/Val',\n",
        "    target_size = (240,240),\n",
        "    batch_size =32 ,\n",
        "    class_mode =\"binary\"\n",
        ")"
      ],
      "metadata": {
        "colab": {
          "base_uri": "https://localhost:8080/"
        },
        "id": "7dWyRLBotrdl",
        "outputId": "b059fb5c-672c-4e1b-cf96-c71eb74ae99b"
      },
      "execution_count": null,
      "outputs": [
        {
          "output_type": "stream",
          "name": "stdout",
          "text": [
            "Found 60 images belonging to 2 classes.\n"
          ]
        }
      ]
    },
    {
      "cell_type": "code",
      "source": [
        "hist = model.fit_generator(\n",
        "train_generator ,\n",
        "steps_per_epoch = 8 ,\n",
        "epochs = 10 ,\n",
        "validation_data = val_generator,\n",
        "validation_steps = 2\n",
        ")"
      ],
      "metadata": {
        "colab": {
          "base_uri": "https://localhost:8080/"
        },
        "id": "JMi5whDRtvIc",
        "outputId": "98500425-3be8-4bec-90d9-88b5f350cd46"
      },
      "execution_count": null,
      "outputs": [
        {
          "output_type": "stream",
          "name": "stderr",
          "text": [
            "<ipython-input-22-813924432837>:1: UserWarning: `Model.fit_generator` is deprecated and will be removed in a future version. Please use `Model.fit`, which supports generators.\n",
            "  hist = model.fit_generator(\n"
          ]
        },
        {
          "output_type": "stream",
          "name": "stdout",
          "text": [
            "Epoch 1/10\n",
            "8/8 [==============================] - 90s 11s/step - loss: 2.2082 - accuracy: 0.5195 - val_loss: 0.6902 - val_accuracy: 0.5000\n",
            "Epoch 2/10\n",
            "8/8 [==============================] - 90s 11s/step - loss: 0.6671 - accuracy: 0.6094 - val_loss: 0.5948 - val_accuracy: 0.9333\n",
            "Epoch 3/10\n",
            "8/8 [==============================] - 94s 12s/step - loss: 0.5103 - accuracy: 0.7539 - val_loss: 0.3694 - val_accuracy: 0.9333\n",
            "Epoch 4/10\n",
            "8/8 [==============================] - 92s 12s/step - loss: 0.4442 - accuracy: 0.8203 - val_loss: 0.3238 - val_accuracy: 0.9500\n",
            "Epoch 5/10\n",
            "8/8 [==============================] - 91s 11s/step - loss: 0.2892 - accuracy: 0.8789 - val_loss: 0.1658 - val_accuracy: 0.9500\n",
            "Epoch 6/10\n",
            "8/8 [==============================] - 91s 11s/step - loss: 0.1994 - accuracy: 0.9336 - val_loss: 0.0968 - val_accuracy: 0.9667\n",
            "Epoch 7/10\n",
            "8/8 [==============================] - 87s 11s/step - loss: 0.1777 - accuracy: 0.9414 - val_loss: 0.0842 - val_accuracy: 0.9500\n",
            "Epoch 8/10\n",
            "8/8 [==============================] - 96s 12s/step - loss: 0.1975 - accuracy: 0.9297 - val_loss: 0.1308 - val_accuracy: 0.9833\n",
            "Epoch 9/10\n",
            "8/8 [==============================] - 91s 11s/step - loss: 0.2282 - accuracy: 0.9180 - val_loss: 0.1061 - val_accuracy: 0.9833\n",
            "Epoch 10/10\n",
            "8/8 [==============================] - 91s 12s/step - loss: 0.1681 - accuracy: 0.9570 - val_loss: 0.0665 - val_accuracy: 0.9833\n"
          ]
        }
      ]
    },
    {
      "cell_type": "code",
      "source": [
        "hist"
      ],
      "metadata": {
        "colab": {
          "base_uri": "https://localhost:8080/"
        },
        "id": "LXIDndZetxkM",
        "outputId": "462749f6-0698-4293-9a68-153dabc3a612"
      },
      "execution_count": null,
      "outputs": [
        {
          "output_type": "execute_result",
          "data": {
            "text/plain": [
              "<keras.src.callbacks.History at 0x7bd8d80f6f20>"
            ]
          },
          "metadata": {},
          "execution_count": 23
        }
      ]
    },
    {
      "cell_type": "code",
      "source": [
        "plt.plot(hist.history['accuracy'])\n",
        "# plt.plot(hist.history['val_acc'])\n",
        "plt.title('model accuracy')\n",
        "plt.ylabel('accuracy')\n",
        "plt.xlabel('epoch')\n",
        "plt.legend(['train', 'test'], loc='upper left')\n",
        "plt.show()"
      ],
      "metadata": {
        "colab": {
          "base_uri": "https://localhost:8080/",
          "height": 472
        },
        "id": "RZJC6HUJy3rV",
        "outputId": "4ea7fc8e-b7c2-4d7a-f491-e2b0da21d5ea"
      },
      "execution_count": null,
      "outputs": [
        {
          "output_type": "display_data",
          "data": {
            "text/plain": [
              "<Figure size 640x480 with 1 Axes>"
            ],
            "image/png": "[encoded data removed]"
          },
          "metadata": {}
        }
      ]
    },
    {
      "cell_type": "code",
      "source": [],
      "metadata": {
        "id": "Q6eD_1oZy8AF"
      },
      "execution_count": null,
      "outputs": []
    }
  ]
}