{
  "nbformat": 4,
  "nbformat_minor": 0,
  "metadata": {
    "colab": {
      "provenance": []
    },
    "kernelspec": {
      "name": "python3",
      "display_name": "Python 3"
    },
    "language_info": {
      "name": "python"
    }
  },
  "cells": [
    {
      "cell_type": "code",
      "source": [
        "email = input(\"Enter the email: \")\n",
        "k, j, d = 0, 0, 0\n",
        "\n",
        "if len(email) >= 6:\n",
        "    if email[0].isalpha():\n",
        "        if \"@\" in email and email.count(\"@\") == 1:\n",
        "            if email[-4] == \".\" and email[-3] != \".\":\n",
        "                for i in email:\n",
        "                    if i.isspace():\n",
        "                        k = 1\n",
        "                    elif i.isalpha():\n",
        "                        if i == i.upper():\n",
        "                            j = 1\n",
        "                    elif i.isdigit():\n",
        "                        continue\n",
        "                    elif i == \"_\" or i == \".\" or i == \"@\":\n",
        "                        continue\n",
        "                    else:\n",
        "                        d = 1\n",
        "\n",
        "                if k == 1 or j == 1 or d == 1:\n",
        "                    print(\"Wrong email 5\")\n",
        "                else:\n",
        "                    print(\"Correct email format\")\n",
        "            else:\n",
        "                print(\"Wrong email 3\")\n",
        "        else:\n",
        "            print(\"Wrong email 2\")\n",
        "    else:\n",
        "        print(\"Wrong email 1\")\n",
        "else:\n",
        "    print(\"Email is wrong 2\")\n"
      ],
      "metadata": {
        "colab": {
          "base_uri": "https://localhost:8080/"
        },
        "id": "HiLo229FSl5y",
        "outputId": "0e4eb68c-5ebd-4b8f-f00a-2b19710b5f34"
      },
      "execution_count": null,
      "outputs": [
        {
          "output_type": "stream",
          "name": "stdout",
          "text": [
            "Enter the email: mzrt1234@gmail.com\n",
            "Correct email format\n"
          ]
        }
      ]
    }
  ]
}