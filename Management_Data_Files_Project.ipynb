{
  "nbformat": 4,
  "nbformat_minor": 0,
  "metadata": {
    "colab": {
      "provenance": []
    },
    "kernelspec": {
      "name": "python3",
      "display_name": "Python 3"
    },
    "language_info": {
      "name": "python"
    }
  },
  "cells": [
    {
      "cell_type": "markdown",
      "source": [
        "**WORKING WITH CSV** **FILES**\n",
        "\n"
      ],
      "metadata": {
        "id": "wXJGE7s3yaa0"
      }
    },
    {
      "cell_type": "code",
      "source": [
        "import numpy as np\n",
        "new_data=np.random.random((50,5)) # Generating 50 rows and 5 columns"
      ],
      "metadata": {
        "id": "zsw3T9KOywUZ"
      },
      "execution_count": null,
      "outputs": []
    },
    {
      "cell_type": "code",
      "source": [
        "print(new_data)"
      ],
      "metadata": {
        "colab": {
          "base_uri": "https://localhost:8080/"
        },
        "id": "foD1WxCrzGpA",
        "outputId": "47d3ca39-d790-431b-cc75-cd68c14208d5"
      },
      "execution_count": null,
      "outputs": [
        {
          "output_type": "stream",
          "name": "stdout",
          "text": [
            "[[1.27123454e-02 8.54213614e-01 1.36670984e-02 7.34480018e-01\n",
            "  4.05132532e-02]\n",
            " [3.69581926e-01 4.97643113e-01 6.14549297e-01 1.93495036e-01\n",
            "  3.51853311e-01]\n",
            " [7.41929870e-02 8.19661440e-01 2.04902393e-01 2.21487229e-01\n",
            "  1.32415719e-01]\n",
            " [4.11916083e-01 4.21998696e-01 5.78705918e-01 6.87841072e-01\n",
            "  1.81751329e-01]\n",
            " [3.01323555e-01 3.95414248e-02 6.00043619e-01 9.38847136e-01\n",
            "  1.49926056e-01]\n",
            " [6.18075891e-01 1.61488129e-01 1.67820359e-01 4.37201405e-01\n",
            "  1.77837669e-02]\n",
            " [4.43247609e-01 5.23305880e-01 1.06357368e-01 7.19662454e-01\n",
            "  5.56270233e-01]\n",
            " [2.29956935e-01 7.86572809e-01 4.44717197e-01 7.49378385e-01\n",
            "  8.71972674e-01]\n",
            " [5.65473872e-01 8.23517650e-01 5.17296259e-02 3.81645248e-01\n",
            "  7.11361837e-01]\n",
            " [1.79838341e-01 2.59114345e-01 4.70133126e-01 7.49770539e-01\n",
            "  9.68054275e-01]\n",
            " [6.90712330e-01 5.87935951e-01 9.07541570e-01 3.26070441e-01\n",
            "  9.85972421e-01]\n",
            " [4.27305303e-02 1.93703668e-01 2.90884225e-01 7.81217342e-01\n",
            "  1.82033343e-01]\n",
            " [8.66184420e-01 8.20952095e-01 5.07350566e-01 6.76849745e-01\n",
            "  6.77212840e-01]\n",
            " [1.05652127e-01 6.75266356e-01 4.22124800e-01 1.81362436e-01\n",
            "  8.28273260e-01]\n",
            " [1.22274320e-01 6.25470794e-01 8.26237781e-01 5.98609494e-01\n",
            "  5.43704580e-01]\n",
            " [8.58287915e-01 3.57637291e-01 5.40607637e-01 2.73503099e-03\n",
            "  3.68405847e-01]\n",
            " [1.35971306e-01 5.53984720e-01 8.93494024e-01 5.39433727e-01\n",
            "  2.37000835e-02]\n",
            " [8.15493377e-01 3.63455951e-01 3.74764076e-01 3.80769866e-02\n",
            "  4.89669454e-01]\n",
            " [4.64893858e-01 4.77168038e-01 9.62064462e-01 4.64174658e-01\n",
            "  1.37410342e-01]\n",
            " [3.54192551e-01 7.67966534e-02 5.31489571e-01 7.67801533e-01\n",
            "  1.24829528e-01]\n",
            " [8.13990161e-01 5.67839638e-01 2.17840195e-01 2.43741539e-01\n",
            "  5.38887180e-01]\n",
            " [3.40360094e-01 8.76931771e-01 5.49596839e-01 9.33705204e-01\n",
            "  7.32284370e-02]\n",
            " [1.86957220e-02 1.04016078e-01 3.65897293e-02 1.32396093e-01\n",
            "  9.32073704e-01]\n",
            " [3.74165495e-01 8.65529062e-01 7.75251045e-01 1.89193614e-01\n",
            "  7.43827417e-01]\n",
            " [7.81161879e-01 6.64503284e-01 2.57996495e-01 8.15103341e-01\n",
            "  3.01659574e-01]\n",
            " [3.43668889e-01 7.65291275e-01 7.01327893e-02 9.63161609e-01\n",
            "  5.79761755e-01]\n",
            " [5.55239528e-01 7.35297016e-01 9.45171560e-02 1.73497103e-01\n",
            "  9.26287389e-01]\n",
            " [9.01985579e-02 8.59144617e-01 5.07158638e-01 2.80643695e-01\n",
            "  7.09371182e-01]\n",
            " [3.03652128e-01 6.88446364e-01 9.23255994e-01 1.47842022e-01\n",
            "  8.45742568e-01]\n",
            " [6.14748517e-01 9.50594396e-01 4.25034139e-01 1.40331051e-01\n",
            "  8.48228469e-01]\n",
            " [1.94601224e-01 2.72089191e-01 6.44886566e-01 2.46492863e-01\n",
            "  6.35246678e-01]\n",
            " [9.37897175e-01 7.99467377e-01 4.81237522e-01 8.26894699e-01\n",
            "  6.32694550e-01]\n",
            " [8.47390772e-01 8.09258552e-01 6.62506614e-01 2.59762917e-01\n",
            "  6.91169857e-01]\n",
            " [5.02803362e-01 6.20956902e-01 8.88495616e-01 1.65010166e-01\n",
            "  7.22079399e-01]\n",
            " [4.21648780e-01 1.72839086e-01 2.91817100e-01 1.21258144e-01\n",
            "  5.96527972e-01]\n",
            " [8.09249374e-02 3.32548302e-01 5.44597582e-01 2.70065462e-01\n",
            "  7.45444200e-01]\n",
            " [7.25717811e-02 3.13560291e-01 5.88709131e-01 5.77559512e-01\n",
            "  1.85984530e-01]\n",
            " [2.41640313e-02 1.05372198e-01 8.66319389e-01 7.07746251e-01\n",
            "  2.72361403e-01]\n",
            " [2.61093071e-01 1.80082670e-01 1.98029921e-02 7.31266885e-01\n",
            "  9.58068261e-01]\n",
            " [3.13087812e-01 5.49429194e-02 7.42258141e-01 6.21194394e-01\n",
            "  6.83403503e-01]\n",
            " [7.77667083e-01 6.59466062e-01 6.65986105e-01 5.42236000e-01\n",
            "  1.70858510e-01]\n",
            " [7.50942543e-01 9.94853984e-01 9.90377344e-03 5.25189374e-01\n",
            "  6.66479713e-01]\n",
            " [6.90764300e-01 6.24421559e-01 7.00393002e-01 7.05115460e-01\n",
            "  4.08923363e-01]\n",
            " [5.53358727e-01 5.98884358e-01 5.83249368e-01 9.73630326e-01\n",
            "  7.29131473e-01]\n",
            " [4.11843217e-01 2.16117868e-01 4.03795956e-01 4.20448990e-01\n",
            "  3.17749878e-01]\n",
            " [1.26755989e-01 5.83676562e-01 4.29921236e-01 3.17953939e-01\n",
            "  4.67927277e-01]\n",
            " [8.95294006e-02 1.44763613e-01 4.19243602e-01 6.15109709e-01\n",
            "  6.43557347e-04]\n",
            " [3.41254669e-01 1.43032510e-01 8.88577138e-01 6.49249442e-01\n",
            "  2.71434381e-01]\n",
            " [6.00932294e-02 1.29953119e-02 8.26850150e-01 2.56041422e-01\n",
            "  3.80257077e-01]\n",
            " [3.46387659e-01 4.25904859e-01 9.49696443e-01 9.12376923e-01\n",
            "  5.99323182e-01]]\n"
          ]
        }
      ]
    },
    {
      "cell_type": "code",
      "source": [
        "np.savetxt(\"main.csv\", new_data, fmt =\"%.2f\", delimiter= \",\" ,header=\"h1,h2,h3,h4,h5\")"
      ],
      "metadata": {
        "id": "poHTsGtA1TVq"
      },
      "execution_count": null,
      "outputs": []
    },
    {
      "cell_type": "code",
      "source": [
        "read_csv=np.loadtxt(\"main.csv\",delimiter=\",\" )  # Read CSV file\n",
        "read_csv[0:5:]"
      ],
      "metadata": {
        "colab": {
          "base_uri": "https://localhost:8080/"
        },
        "id": "GFUFRvjN3fis",
        "outputId": "18b3b3ee-0681-41f2-875e-a0fcf88b1310"
      },
      "execution_count": null,
      "outputs": [
        {
          "output_type": "execute_result",
          "data": {
            "text/plain": [
              "array([[0.11, 0.56, 0.34, 0.6 , 0.13],\n",
              "       [0.09, 0.81, 0.04, 0.96, 0.74],\n",
              "       [0.97, 0.09, 0.76, 0.44, 0.3 ],\n",
              "       [0.37, 0.62, 0.58, 0.19, 0.97],\n",
              "       [0.41, 0.92, 0.72, 0.94, 0.07]])"
            ]
          },
          "metadata": {},
          "execution_count": 31
        }
      ]
    },
    {
      "cell_type": "code",
      "source": [
        "print(read_csv)"
      ],
      "metadata": {
        "colab": {
          "base_uri": "https://localhost:8080/"
        },
        "id": "O_kB0iH-6Awt",
        "outputId": "e72478f8-1018-437f-b113-404d39553aaf"
      },
      "execution_count": null,
      "outputs": [
        {
          "output_type": "stream",
          "name": "stdout",
          "text": [
            "[[0.11 0.56 0.34 0.6  0.13]\n",
            " [0.09 0.81 0.04 0.96 0.74]\n",
            " [0.97 0.09 0.76 0.44 0.3 ]\n",
            " [0.37 0.62 0.58 0.19 0.97]\n",
            " [0.41 0.92 0.72 0.94 0.07]\n",
            " [0.03 0.6  0.68 0.65 0.52]\n",
            " [0.74 0.71 0.8  0.36 0.32]\n",
            " [0.89 0.18 0.75 0.91 0.03]\n",
            " [0.72 0.6  0.85 0.72 0.31]\n",
            " [0.19 0.64 0.95 0.6  0.61]\n",
            " [0.55 0.44 0.52 0.49 0.47]\n",
            " [0.57 0.09 0.56 0.49 0.65]\n",
            " [0.1  0.75 0.82 0.03 0.24]\n",
            " [0.19 0.27 0.9  0.63 0.79]\n",
            " [0.3  0.66 0.31 0.04 0.02]\n",
            " [0.29 0.53 0.46 0.86 0.07]\n",
            " [0.35 0.75 0.95 0.05 0.9 ]\n",
            " [0.46 0.35 0.66 0.16 0.86]\n",
            " [0.86 0.21 0.87 0.18 0.47]\n",
            " [0.16 0.24 0.94 0.55 0.47]\n",
            " [0.87 0.56 0.77 0.51 0.29]\n",
            " [0.56 0.48 0.65 0.79 0.56]\n",
            " [0.31 0.7  0.46 0.95 0.21]\n",
            " [0.47 0.31 0.78 0.78 0.03]\n",
            " [0.63 0.75 0.91 0.65 0.65]\n",
            " [0.88 0.13 0.52 0.95 0.04]\n",
            " [0.15 0.86 0.55 0.85 0.41]\n",
            " [0.81 0.03 0.7  0.62 0.9 ]\n",
            " [0.98 0.69 0.94 0.99 0.46]\n",
            " [0.69 0.42 0.1  0.1  0.25]\n",
            " [0.99 0.43 0.47 0.11 0.39]\n",
            " [0.5  0.03 0.11 0.51 0.33]\n",
            " [0.98 0.08 0.38 0.23 0.23]\n",
            " [0.48 0.89 0.83 0.77 0.73]\n",
            " [0.62 0.06 0.32 0.73 0.11]\n",
            " [0.17 0.45 0.69 0.13 0.36]\n",
            " [0.36 0.08 0.32 0.38 0.81]\n",
            " [0.96 0.06 0.29 0.94 0.42]\n",
            " [0.55 0.73 0.6  0.21 0.58]\n",
            " [0.44 0.42 0.33 0.69 0.18]\n",
            " [0.88 0.7  0.44 0.32 0.55]\n",
            " [0.25 0.99 0.69 0.34 0.33]\n",
            " [0.72 0.48 0.9  0.55 0.81]\n",
            " [1.   0.08 0.29 0.1  0.21]\n",
            " [0.58 0.97 0.1  0.13 0.05]\n",
            " [0.94 0.87 0.04 0.91 0.31]\n",
            " [0.16 0.12 0.21 0.36 0.65]\n",
            " [0.81 0.76 0.36 0.62 0.75]\n",
            " [0.16 0.   0.87 0.6  0.57]\n",
            " [0.16 0.79 0.5  0.93 0.37]]\n"
          ]
        }
      ]
    },
    {
      "cell_type": "markdown",
      "source": [
        "**WORKING WITH PICKEL FILE**"
      ],
      "metadata": {
        "id": "zzbgGgv9TvWj"
      }
    },
    {
      "cell_type": "code",
      "source": [
        "import pickle"
      ],
      "metadata": {
        "id": "5X2NJfmz7il2"
      },
      "execution_count": null,
      "outputs": []
    },
    {
      "cell_type": "code",
      "source": [
        "order={\"First\": 1,\"Second\" :2, \"Third\": 3,\"Fourth\": 4} #write to a pickle file\n",
        "pickle.dump(order, open(\"new.pkl\", \"wb\"))"
      ],
      "metadata": {
        "id": "IkTOz0kdT4m4"
      },
      "execution_count": null,
      "outputs": []
    },
    {
      "cell_type": "code",
      "source": [
        "reading_pickel = pickle.load(open(\"new.pkl\",\"rb\")) # read from pickel file"
      ],
      "metadata": {
        "id": "1EIMh0kXVJI0"
      },
      "execution_count": null,
      "outputs": []
    },
    {
      "cell_type": "code",
      "source": [
        "reading_pickel"
      ],
      "metadata": {
        "colab": {
          "base_uri": "https://localhost:8080/"
        },
        "id": "OWLP1r0EXHoI",
        "outputId": "f251e819-ac2e-400c-dcdf-cc8c247b2693"
      },
      "execution_count": null,
      "outputs": [
        {
          "output_type": "execute_result",
          "data": {
            "text/plain": [
              "{'First': 1, 'Second': 2, 'Third': 3, 'Fourth': 4}"
            ]
          },
          "metadata": {},
          "execution_count": 16
        }
      ]
    },
    {
      "cell_type": "markdown",
      "source": [
        "**WORKING** **WITH JSON FILE**"
      ],
      "metadata": {
        "id": "zkYLrCDTnm9R"
      }
    },
    {
      "cell_type": "code",
      "source": [
        "import json\n",
        "collage ={\n",
        "    \"collage\" : \"Engineering\",\n",
        "    \"Objective\" : \"Electrical Engineering and Computer Science Engineering\",\n",
        "    \"departments\" : {\n",
        "        \"dept 1\" : \"Electrical\",\n",
        "        \"dept 2\" : \"Computer\"\n",
        "    },\n",
        "\n",
        "    \"year\":[\n",
        "       \"year 1\",\n",
        "       \"year 2\",\n",
        "       \"year 3\",\n",
        "       \"year 4\"\n",
        "    ],\n",
        "    \"number\":[1,2,3,4,5],\n",
        "    \"ID\":[10,20,30,40]\n",
        "         }"
      ],
      "metadata": {
        "id": "V3RWm4Y1XUzN"
      },
      "execution_count": null,
      "outputs": []
    },
    {
      "cell_type": "code",
      "source": [
        " json.dump(collage,open(\"collage.json\",\"w\"))"
      ],
      "metadata": {
        "id": "o0ZGxZ7d6rUO"
      },
      "execution_count": null,
      "outputs": []
    },
    {
      "cell_type": "code",
      "source": [
        "print(collage)"
      ],
      "metadata": {
        "colab": {
          "base_uri": "https://localhost:8080/"
        },
        "id": "Af5rntyv7bOc",
        "outputId": "6628cf9a-0018-4796-bff3-47f3826e5943"
      },
      "execution_count": null,
      "outputs": [
        {
          "output_type": "stream",
          "name": "stdout",
          "text": [
            "{'collage': 'Engineering', 'Objective': 'Electrical Engineering and Computer Science Engineering', 'departments': {'dept 1': 'Electrical', 'dept 2': 'Computer'}, 'year': ['year 1', 'year 2', 'year 3', 'year 4'], 'number': [1, 2, 3, 4, 5], 'ID': [10, 20, 30, 40]}\n"
          ]
        }
      ]
    },
    {
      "cell_type": "code",
      "source": [
        "new_collage = json.load(open(\"collage.json\",\"r\"))"
      ],
      "metadata": {
        "id": "HbaX956N8n4I"
      },
      "execution_count": null,
      "outputs": []
    },
    {
      "cell_type": "code",
      "source": [
        "new_collage"
      ],
      "metadata": {
        "colab": {
          "base_uri": "https://localhost:8080/"
        },
        "id": "skDI6ilv9MFP",
        "outputId": "c8919993-d16a-4afc-982d-6819ad465abb"
      },
      "execution_count": null,
      "outputs": [
        {
          "output_type": "execute_result",
          "data": {
            "text/plain": [
              "{'collage': 'Engineering',\n",
              " 'Objective': 'Electrical Engineering and Computer Science Engineering',\n",
              " 'departments': {'dept 1': 'Electrical', 'dept 2': 'Computer'},\n",
              " 'year': ['year 1', 'year 2', 'year 3', 'year 4'],\n",
              " 'number': [1, 2, 3, 4, 5],\n",
              " 'ID': [10, 20, 30, 40]}"
            ]
          },
          "metadata": {},
          "execution_count": 52
        }
      ]
    }
  ]
}