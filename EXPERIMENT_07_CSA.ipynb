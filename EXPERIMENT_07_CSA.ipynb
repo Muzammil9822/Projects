{
  "nbformat": 4,
  "nbformat_minor": 0,
  "metadata": {
    "colab": {
      "provenance": [],
      "include_colab_link": true
    },
    "kernelspec": {
      "name": "python3",
      "display_name": "Python 3"
    },
    "language_info": {
      "name": "python"
    }
  },
  "cells": [
    {
      "cell_type": "markdown",
      "metadata": {
        "id": "view-in-github",
        "colab_type": "text"
      },
      "source": [
        "<a href=\"https://colab.research.google.com/github/Muzammil9822/Projects/blob/main/EXPERIMENT_07_CSA.ipynb\" target=\"_parent\"><img src=\"https://colab.research.google.com/assets/colab-badge.svg\" alt=\"Open In Colab\"/></a>"
      ]
    },
    {
      "cell_type": "markdown",
      "source": [
        "#CSA EXPERIMENT 07 : GEN AI CONVERSATIONAL CHAT BOT"
      ],
      "metadata": {
        "id": "ty_gtAiMKbLn"
      }
    },
    {
      "cell_type": "code",
      "execution_count": null,
      "metadata": {
        "id": "bZcLSFa_JyaL"
      },
      "outputs": [],
      "source": [
        "\"\"\"\n",
        "At the command line, only need to run once to install the package via pip:\n",
        "\n",
        "$ pip install google-generativeai\n",
        "\"\"\"\n",
        "import google.generativeai as genai\n",
        "genai.configure(api_key=\"YOUR_API_KEY\")"
      ]
    },
    {
      "cell_type": "code",
      "source": [
        "# Set up the model\n",
        "generation_config = {\n",
        "  \"temperature\": 1,\n",
        "  \"top_p\": 0.95,\n",
        "  \"top_k\": 0,\n",
        "  \"max_output_tokens\": 8192,\n",
        "}\n",
        "generation_config"
      ],
      "metadata": {
        "colab": {
          "base_uri": "https://localhost:8080/"
        },
        "id": "BrgnHDDLKhkw",
        "outputId": "bb2516fa-c2e0-4d7e-fa8d-a50199a65d94"
      },
      "execution_count": null,
      "outputs": [
        {
          "output_type": "execute_result",
          "data": {
            "text/plain": [
              "{'temperature': 1, 'top_p': 0.95, 'top_k': 0, 'max_output_tokens': 8192}"
            ]
          },
          "metadata": {},
          "execution_count": 4
        }
      ]
    },
    {
      "cell_type": "code",
      "source": [
        "# SET UP SAFETY SETTINGS\n",
        "safety_settings = [\n",
        "  {\n",
        "    \"category\": \"HARM_CATEGORY_HARASSMENT\",\n",
        "    \"threshold\": \"BLOCK_MEDIUM_AND_ABOVE\"\n",
        "  },\n",
        "  {\n",
        "    \"category\": \"HARM_CATEGORY_HATE_SPEECH\",\n",
        "    \"threshold\": \"BLOCK_MEDIUM_AND_ABOVE\"\n",
        "  },\n",
        "  {\n",
        "    \"category\": \"HARM_CATEGORY_SEXUALLY_EXPLICIT\",\n",
        "    \"threshold\": \"BLOCK_MEDIUM_AND_ABOVE\"\n",
        "  },\n",
        "  {\n",
        "    \"category\": \"HARM_CATEGORY_DANGEROUS_CONTENT\",\n",
        "    \"threshold\": \"BLOCK_MEDIUM_AND_ABOVE\"\n",
        "  },\n",
        "]\n",
        "safety_settings"
      ],
      "metadata": {
        "colab": {
          "base_uri": "https://localhost:8080/"
        },
        "id": "_h32RlM1KjYZ",
        "outputId": "b0ff8245-d798-40b9-ae33-331391300f05"
      },
      "execution_count": null,
      "outputs": [
        {
          "output_type": "execute_result",
          "data": {
            "text/plain": [
              "[{'category': 'HARM_CATEGORY_HARASSMENT',\n",
              "  'threshold': 'BLOCK_MEDIUM_AND_ABOVE'},\n",
              " {'category': 'HARM_CATEGORY_HATE_SPEECH',\n",
              "  'threshold': 'BLOCK_MEDIUM_AND_ABOVE'},\n",
              " {'category': 'HARM_CATEGORY_SEXUALLY_EXPLICIT',\n",
              "  'threshold': 'BLOCK_MEDIUM_AND_ABOVE'},\n",
              " {'category': 'HARM_CATEGORY_DANGEROUS_CONTENT',\n",
              "  'threshold': 'BLOCK_MEDIUM_AND_ABOVE'}]"
            ]
          },
          "metadata": {},
          "execution_count": 5
        }
      ]
    },
    {
      "cell_type": "code",
      "source": [
        "# SET UP GEN AI MODEL\n",
        "model = genai.GenerativeModel(model_name=\"gemini-1.5-pro-latest\",\n",
        "                              generation_config=generation_config,\n",
        "                              safety_settings=safety_settings)\n",
        "model\n"
      ],
      "metadata": {
        "colab": {
          "base_uri": "https://localhost:8080/"
        },
        "id": "wYPJkTBLKlPK",
        "outputId": "815d599d-c57b-4a8b-bf37-3a33d9a44c21"
      },
      "execution_count": null,
      "outputs": [
        {
          "output_type": "execute_result",
          "data": {
            "text/plain": [
              " genai.GenerativeModel(\n",
              "   model_name='models/gemini-1.5-pro-latest',\n",
              "   generation_config={'temperature': 1, 'top_p': 0.95, 'top_k': 0, 'max_output_tokens': 8192}.\n",
              "   safety_settings={<HarmCategory.HARM_CATEGORY_HARASSMENT: 7>: <HarmBlockThreshold.BLOCK_MEDIUM_AND_ABOVE: 2>, <HarmCategory.HARM_CATEGORY_HATE_SPEECH: 8>: <HarmBlockThreshold.BLOCK_MEDIUM_AND_ABOVE: 2>, <HarmCategory.HARM_CATEGORY_SEXUALLY_EXPLICIT: 9>: <HarmBlockThreshold.BLOCK_MEDIUM_AND_ABOVE: 2>, <HarmCategory.HARM_CATEGORY_DANGEROUS_CONTENT: 10>: <HarmBlockThreshold.BLOCK_MEDIUM_AND_ABOVE: 2>}\n",
              ")"
            ]
          },
          "metadata": {},
          "execution_count": 6
        }
      ]
    },
    {
      "cell_type": "code",
      "source": [
        "# CREATE A CHAT SAMPLE FOR CHAT PROMPTING\n",
        "history=[\n",
        "  {\n",
        "    \"role\": \"user\",\n",
        "    \"parts\": [\"Hi\"]\n",
        "  },\n",
        "  {\n",
        "    \"role\": \"model\",\n",
        "    \"parts\": [\"Namaste\"]\n",
        "  },\n",
        "  {\n",
        "    \"role\": \"user\",\n",
        "    \"parts\": [\"Muze aaj Ice cream khani hain\"]\n",
        "  },\n",
        "  {\n",
        "    \"role\": \"model\",\n",
        "    \"parts\": [\"Ji haan, mai aap ke liye ice cream ki kist bhej ta hoonhttps://www.bigbasket.com/pc/bakery-cakes-dairy/ice-creams-desserts/ice-creams/\"]\n",
        "  },\n",
        "  {\n",
        "    \"role\": \"user\",\n",
        "    \"parts\": [\"Waa bhai\"]\n",
        "  },\n",
        "  {\n",
        "    \"role\": \"model\",\n",
        "    \"parts\": [\"Dhnyawad\"]\n",
        "  },\n",
        "  {\n",
        "    \"role\": \"user\",\n",
        "    \"parts\": [\"Hi\"]\n",
        "  },\n",
        "  {\n",
        "    \"role\": \"model\",\n",
        "    \"parts\": [\"Namaste\"]\n",
        "  },\n",
        "  {\n",
        "    \"role\": \"user\",\n",
        "    \"parts\": [\"Muze pavbhaji khani hain\"]\n",
        "  },\n",
        "  {\n",
        "    \"role\": \"model\",\n",
        "    \"parts\": [\"Ji bilkul, yahan kuchh pavbhaji ke vikalp diye gay\"]\n",
        "  },\n",
        "]\n",
        "history"
      ],
      "metadata": {
        "colab": {
          "base_uri": "https://localhost:8080/"
        },
        "id": "wcrRZn7TKs2f",
        "outputId": "ac24976e-bcf5-46a2-a580-b6c32f874ebb"
      },
      "execution_count": null,
      "outputs": [
        {
          "output_type": "execute_result",
          "data": {
            "text/plain": [
              "[{'role': 'user', 'parts': ['Hi']},\n",
              " {'role': 'model', 'parts': ['Namaste']},\n",
              " {'role': 'user', 'parts': ['Muze aaj Ice cream khani hain']},\n",
              " {'role': 'model',\n",
              "  'parts': ['Ji haan, mai aap ke liye ice cream ki kist bhej ta hoonhttps://www.bigbasket.com/pc/bakery-cakes-dairy/ice-creams-desserts/ice-creams/']},\n",
              " {'role': 'user', 'parts': ['Waa bhai']},\n",
              " {'role': 'model', 'parts': ['Dhnyawad']},\n",
              " {'role': 'user', 'parts': ['Hi']},\n",
              " {'role': 'model', 'parts': ['Namaste']},\n",
              " {'role': 'user', 'parts': ['Muze pavbhaji khani hain']},\n",
              " {'role': 'model',\n",
              "  'parts': ['Ji bilkul, yahan kuchh pavbhaji ke vikalp diye gay']}]"
            ]
          },
          "metadata": {},
          "execution_count": 7
        }
      ]
    },
    {
      "cell_type": "code",
      "source": [
        "# INITIATE CHAT MODEL\n",
        "convo = model.start_chat()\n",
        "convo\n"
      ],
      "metadata": {
        "colab": {
          "base_uri": "https://localhost:8080/"
        },
        "id": "-Rtlbv7IKnSx",
        "outputId": "9f6062e8-dc20-4a39-c5f8-c0558edf38e1"
      },
      "execution_count": null,
      "outputs": [
        {
          "output_type": "execute_result",
          "data": {
            "text/plain": [
              "<google.generativeai.generative_models.ChatSession at 0x79d617fcab30>"
            ]
          },
          "metadata": {},
          "execution_count": 8
        }
      ]
    },
    {
      "cell_type": "code",
      "source": [
        "# CHAT WITH BOT\n",
        "query = input(\"Enter your query :\")\n",
        "convo.send_message(query)\n"
      ],
      "metadata": {
        "colab": {
          "base_uri": "https://localhost:8080/",
          "height": 52
        },
        "id": "ptYUFaneKBtp",
        "outputId": "74bbcf5a-f183-44ce-96eb-566254e2cce0"
      },
      "execution_count": null,
      "outputs": [
        {
          "name": "stdout",
          "output_type": "stream",
          "text": [
            "Enter your query :Muze Lassi chahiye\n"
          ]
        },
        {
          "output_type": "execute_result",
          "data": {
            "text/plain": [
              "<google.generativeai.types.generation_types.GenerateContentResponse at 0x79d64368e680>"
            ]
          },
          "metadata": {},
          "execution_count": 2
        }
      ]
    },
    {
      "cell_type": "code",
      "source": [
        "# PRINT OUTPUT\n",
        "print(convo.last.text)"
      ],
      "metadata": {
        "colab": {
          "base_uri": "https://localhost:8080/"
        },
        "id": "6_U58rGOKDEG",
        "outputId": "34d4018d-dac9-4189-ae1c-57b8af4c7e8d"
      },
      "execution_count": null,
      "outputs": [
        {
          "output_type": "stream",
          "name": "stdout",
          "text": [
            "Bahut badhiya, yahaan aapke liye kuchh lassi ke vikalp diye gaye hain:\n",
            "\n",
            "* **Amritsari Lassi:** Meethi dahi, malai aur kesar se bani ek samriddh aur swadisht lassi.\n",
            "* **Mango Lassi:** Pake aam ke swaad wali ek meethi aur tangy lassi.\n",
            "* **Strawberry Lassi:** Taazi strawberry se bani ek swadisht aur ताज़ा lassi.\n",
            "* **Sweet Lassi:** Dahi, cheeni aur ilaaychi se bani ek classic lassi.\n",
            "* **Salted Lassi:** Dahi, namak aur bhuna jeera se bani ek namkeen aur ताज़ा lassi. \n",
            "\n"
          ]
        }
      ]
    },
    {
      "cell_type": "code",
      "source": [],
      "metadata": {
        "id": "nDATiNiiKQqf"
      },
      "execution_count": null,
      "outputs": []
    }
  ]
}