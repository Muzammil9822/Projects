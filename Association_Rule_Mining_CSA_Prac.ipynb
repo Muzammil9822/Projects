{
  "metadata": {
    "kernelspec": {
      "language": "python",
      "display_name": "Python 3",
      "name": "python3"
    },
    "language_info": {
      "name": "python",
      "version": "3.7.6",
      "mimetype": "text/x-python",
      "codemirror_mode": {
        "name": "ipython",
        "version": 3
      },
      "pygments_lexer": "ipython3",
      "nbconvert_exporter": "python",
      "file_extension": ".py"
    },
    "kaggle": {
      "accelerator": "none",
      "dataSources": [
        {
          "sourceId": 1494131,
          "sourceType": "datasetVersion",
          "datasetId": 877335
        }
      ],
      "dockerImageVersionId": 30014,
      "isInternetEnabled": true,
      "language": "python",
      "sourceType": "notebook",
      "isGpuEnabled": false
    },
    "colab": {
      "provenance": [],
      "include_colab_link": true
    }
  },
  "nbformat_minor": 0,
  "nbformat": 4,
  "cells": [
    {
      "cell_type": "markdown",
      "metadata": {
        "id": "view-in-github",
        "colab_type": "text"
      },
      "source": [
        "<a href=\"https://colab.research.google.com/github/Muzammil9822/Projects/blob/main/Association_Rule_Mining_CSA_Prac.ipynb\" target=\"_parent\"><img src=\"https://colab.research.google.com/assets/colab-badge.svg\" alt=\"Open In Colab\"/></a>"
      ]
    },
    {
      "cell_type": "code",
      "source": [
        "# This Python 3 environment comes with many helpful analytics libraries installed\n",
        "# It is defined by the kaggle/python Docker image: https://github.com/kaggle/docker-python\n",
        "# For example, here's several helpful packages to load\n",
        "\n",
        "# Input data files are available in the read-only \"../input/\" directory\n",
        "# For example, running this (by clicking run or pressing Shift+Enter) will list all files under the input directory\n",
        "\n",
        "import os\n",
        "for dirname, _, filenames in os.walk('/kaggle/input'):\n",
        "    for filename in filenames:\n",
        "        print(os.path.join(dirname, filename))\n",
        "\n",
        "# You can write up to 5GB to the current directory (/kaggle/working/) that gets preserved as output when you create a version using \"Save & Run All\"\n",
        "# You can also write temporary files to /kaggle/temp/, but they won't be saved outside of the current session"
      ],
      "metadata": {
        "_uuid": "8f2839f25d086af736a60e9eeb907d3b93b6e0e5",
        "_cell_guid": "b1076dfc-b9ad-4769-8c92-a6c4dae69d19",
        "_kg_hide-input": true,
        "_kg_hide-output": true,
        "execution": {
          "iopub.status.busy": "2024-02-10T01:55:01.537699Z",
          "iopub.execute_input": "2024-02-10T01:55:01.538384Z",
          "iopub.status.idle": "2024-02-10T01:55:01.566860Z",
          "shell.execute_reply.started": "2024-02-10T01:55:01.538321Z",
          "shell.execute_reply": "2024-02-10T01:55:01.565666Z"
        },
        "trusted": true,
        "id": "ZbivFaxrA_T8",
        "outputId": "ca01119e-5346-48da-b161-671adc109520"
      },
      "execution_count": null,
      "outputs": [
        {
          "name": "stdout",
          "text": "/kaggle/input/groceries-dataset/Groceries_dataset.csv\n",
          "output_type": "stream"
        }
      ]
    },
    {
      "cell_type": "markdown",
      "source": [
        "## Importing libraries"
      ],
      "metadata": {
        "id": "21dfV4MlA_T_"
      }
    },
    {
      "cell_type": "code",
      "source": [
        "import numpy as np\n",
        "import pandas as pd\n",
        "import plotly.graph_objects as go\n",
        "import plotly.express as px\n",
        "\n",
        "\n",
        "try:\n",
        "    import apyori\n",
        "except:\n",
        "    !pip install apyori\n",
        "\n",
        "from apyori import apriori"
      ],
      "metadata": {
        "_kg_hide-output": true,
        "execution": {
          "iopub.status.busy": "2024-02-10T01:55:01.568612Z",
          "iopub.execute_input": "2024-02-10T01:55:01.569171Z",
          "iopub.status.idle": "2024-02-10T01:55:16.302247Z",
          "shell.execute_reply.started": "2024-02-10T01:55:01.569099Z",
          "shell.execute_reply": "2024-02-10T01:55:16.300930Z"
        },
        "trusted": true,
        "id": "W1pM1FSJA_UA",
        "outputId": "3825cdf1-3cc6-406b-f4a7-d1da95c9955a"
      },
      "execution_count": null,
      "outputs": [
        {
          "name": "stdout",
          "text": "Collecting apyori\n  Downloading apyori-1.1.2.tar.gz (8.6 kB)\nBuilding wheels for collected packages: apyori\n  Building wheel for apyori (setup.py) ... \u001b[?25ldone\n\u001b[?25h  Created wheel for apyori: filename=apyori-1.1.2-py3-none-any.whl size=5974 sha256=7dae079ba6e51b7c9fe6c36075b9b6605dedda6ecd1fce60d57f0715075ae985\n  Stored in directory: /root/.cache/pip/wheels/cb/f6/e1/57973c631d27efd1a2f375bd6a83b2a616c4021f24aab84080\nSuccessfully built apyori\nInstalling collected packages: apyori\nSuccessfully installed apyori-1.1.2\n\u001b[33mWARNING: You are using pip version 20.2.3; however, version 24.0 is available.\nYou should consider upgrading via the '/opt/conda/bin/python3.7 -m pip install --upgrade pip' command.\u001b[0m\n",
          "output_type": "stream"
        }
      ]
    },
    {
      "cell_type": "markdown",
      "source": [
        "## Loading Dataset"
      ],
      "metadata": {
        "id": "HeBWyUD1A_UB"
      }
    },
    {
      "cell_type": "code",
      "source": [
        "df = pd.read_csv('../input/groceries-dataset/Groceries_dataset.csv', parse_dates=['Date'])\n",
        "df.head()"
      ],
      "metadata": {
        "_uuid": "d629ff2d2480ee46fbb7e2d37f6b5fab8052498a",
        "_cell_guid": "79c7e3d0-c299-4dcb-8224-4455121ee9b0",
        "execution": {
          "iopub.status.busy": "2024-02-10T01:55:16.305307Z",
          "iopub.execute_input": "2024-02-10T01:55:16.306029Z",
          "iopub.status.idle": "2024-02-10T01:55:16.421776Z",
          "shell.execute_reply.started": "2024-02-10T01:55:16.305973Z",
          "shell.execute_reply": "2024-02-10T01:55:16.419893Z"
        },
        "trusted": true,
        "id": "3asZoSaxA_UC",
        "outputId": "5905df7c-9195-46bf-9745-642c0219968b"
      },
      "execution_count": null,
      "outputs": [
        {
          "execution_count": 3,
          "output_type": "execute_result",
          "data": {
            "text/plain": "   Member_number       Date   itemDescription\n0           1808 2015-07-21    tropical fruit\n1           2552 2015-05-01        whole milk\n2           2300 2015-09-19         pip fruit\n3           1187 2015-12-12  other vegetables\n4           3037 2015-01-02        whole milk",
            "text/html": "<div>\n<style scoped>\n    .dataframe tbody tr th:only-of-type {\n        vertical-align: middle;\n    }\n\n    .dataframe tbody tr th {\n        vertical-align: top;\n    }\n\n    .dataframe thead th {\n        text-align: right;\n    }\n</style>\n<table border=\"1\" class=\"dataframe\">\n  <thead>\n    <tr style=\"text-align: right;\">\n      <th></th>\n      <th>Member_number</th>\n      <th>Date</th>\n      <th>itemDescription</th>\n    </tr>\n  </thead>\n  <tbody>\n    <tr>\n      <th>0</th>\n      <td>1808</td>\n      <td>2015-07-21</td>\n      <td>tropical fruit</td>\n    </tr>\n    <tr>\n      <th>1</th>\n      <td>2552</td>\n      <td>2015-05-01</td>\n      <td>whole milk</td>\n    </tr>\n    <tr>\n      <th>2</th>\n      <td>2300</td>\n      <td>2015-09-19</td>\n      <td>pip fruit</td>\n    </tr>\n    <tr>\n      <th>3</th>\n      <td>1187</td>\n      <td>2015-12-12</td>\n      <td>other vegetables</td>\n    </tr>\n    <tr>\n      <th>4</th>\n      <td>3037</td>\n      <td>2015-01-02</td>\n      <td>whole milk</td>\n    </tr>\n  </tbody>\n</table>\n</div>"
          },
          "metadata": {}
        }
      ]
    },
    {
      "cell_type": "markdown",
      "source": [
        "### Any null values"
      ],
      "metadata": {
        "id": "550EXz09A_UC"
      }
    },
    {
      "cell_type": "code",
      "source": [
        "df.isnull().any()"
      ],
      "metadata": {
        "_kg_hide-input": true,
        "execution": {
          "iopub.status.busy": "2024-02-10T01:55:16.425793Z",
          "iopub.execute_input": "2024-02-10T01:55:16.426307Z",
          "iopub.status.idle": "2024-02-10T01:55:16.444926Z",
          "shell.execute_reply.started": "2024-02-10T01:55:16.426259Z",
          "shell.execute_reply": "2024-02-10T01:55:16.443027Z"
        },
        "trusted": true,
        "id": "MrgyZQfCA_UC",
        "outputId": "4b1886bf-aead-4ef2-8297-cfe61b0ee2aa"
      },
      "execution_count": null,
      "outputs": [
        {
          "execution_count": 4,
          "output_type": "execute_result",
          "data": {
            "text/plain": "Member_number      False\nDate               False\nitemDescription    False\ndtype: bool"
          },
          "metadata": {}
        }
      ]
    },
    {
      "cell_type": "markdown",
      "source": [
        "### Total Products"
      ],
      "metadata": {
        "id": "hTnxW80kA_UC"
      }
    },
    {
      "cell_type": "code",
      "source": [
        "all_products = df['itemDescription'].unique()\n",
        "print(\"Total products: {}\".format(len(all_products)))"
      ],
      "metadata": {
        "_kg_hide-input": true,
        "execution": {
          "iopub.status.busy": "2024-02-10T01:55:16.448345Z",
          "iopub.execute_input": "2024-02-10T01:55:16.448957Z",
          "iopub.status.idle": "2024-02-10T01:55:16.465219Z",
          "shell.execute_reply.started": "2024-02-10T01:55:16.448896Z",
          "shell.execute_reply": "2024-02-10T01:55:16.463219Z"
        },
        "trusted": true,
        "id": "70yb-8D8A_UC",
        "outputId": "df57ab36-d569-46ff-cb38-86218a5eb50e"
      },
      "execution_count": null,
      "outputs": [
        {
          "name": "stdout",
          "text": "Total products: 167\n",
          "output_type": "stream"
        }
      ]
    },
    {
      "cell_type": "markdown",
      "source": [
        "## Top 10 frequently sold products"
      ],
      "metadata": {
        "id": "GYj0ut_KA_UD"
      }
    },
    {
      "cell_type": "code",
      "source": [
        "def ditribution_plot(x,y,name=None,xaxis=None,yaxis=None):\n",
        "    fig = go.Figure([\n",
        "        go.Bar(x=x, y=y)\n",
        "    ])\n",
        "\n",
        "    fig.update_layout(\n",
        "        title_text=name,\n",
        "        xaxis_title=xaxis,\n",
        "        yaxis_title=yaxis\n",
        "    )\n",
        "    fig.show()"
      ],
      "metadata": {
        "_kg_hide-input": true,
        "execution": {
          "iopub.status.busy": "2024-02-10T01:55:16.467506Z",
          "iopub.execute_input": "2024-02-10T01:55:16.467947Z",
          "iopub.status.idle": "2024-02-10T01:55:16.479077Z",
          "shell.execute_reply.started": "2024-02-10T01:55:16.467904Z",
          "shell.execute_reply": "2024-02-10T01:55:16.476985Z"
        },
        "trusted": true,
        "id": "ATsKdjJRA_UE"
      },
      "execution_count": null,
      "outputs": []
    },
    {
      "cell_type": "code",
      "source": [
        "x = df['itemDescription'].value_counts()\n",
        "x = x.sort_values(ascending = False)\n",
        "x = x[:10]\n",
        "\n",
        "ditribution_plot(x=x.index, y=x.values, yaxis=\"Count\", xaxis=\"Products\")"
      ],
      "metadata": {
        "_kg_hide-input": true,
        "execution": {
          "iopub.status.busy": "2024-02-10T01:55:16.481866Z",
          "iopub.execute_input": "2024-02-10T01:55:16.482477Z",
          "iopub.status.idle": "2024-02-10T01:55:16.726073Z",
          "shell.execute_reply.started": "2024-02-10T01:55:16.482418Z",
          "shell.execute_reply": "2024-02-10T01:55:16.724597Z"
        },
        "trusted": true,
        "id": "rcqR8fSVA_UE",
        "outputId": "bb75ecac-daca-4785-8520-71dedc4ced21"
      },
      "execution_count": null,
      "outputs": [
        {
          "output_type": "display_data",
          "data": {
            "text/html": "        <script type=\"text/javascript\">\n        window.PlotlyConfig = {MathJaxConfig: 'local'};\n        if (window.MathJax) {MathJax.Hub.Config({SVG: {font: \"STIX-Web\"}});}\n        if (typeof require !== 'undefined') {\n        require.undef(\"plotly\");\n        requirejs.config({\n            paths: {\n                'plotly': ['https://cdn.plot.ly/plotly-latest.min']\n            }\n        });\n        require(['plotly'], function(Plotly) {\n            window._Plotly = Plotly;\n        });\n        }\n        </script>\n        "
          },
          "metadata": {}
        },
        {
          "output_type": "display_data",
          "data": {
            "text/html": "<div>                            <div id=\"0541101c-123e-41b7-b77d-d31aee4b3507\" class=\"plotly-graph-div\" style=\"height:525px; width:100%;\"></div>            <script type=\"text/javascript\">                require([\"plotly\"], function(Plotly) {                    window.PLOTLYENV=window.PLOTLYENV || {};                                    if (document.getElementById(\"0541101c-123e-41b7-b77d-d31aee4b3507\")) {                    Plotly.newPlot(                        \"0541101c-123e-41b7-b77d-d31aee4b3507\",                        [{\"type\": \"bar\", \"x\": [\"whole milk\", \"other vegetables\", \"rolls/buns\", \"soda\", \"yogurt\", \"root vegetables\", \"tropical fruit\", \"bottled water\", \"sausage\", \"citrus fruit\"], \"y\": [2502, 1898, 1716, 1514, 1334, 1071, 1032, 933, 924, 812]}],                        {\"template\": {\"data\": {\"bar\": [{\"error_x\": {\"color\": \"#2a3f5f\"}, \"error_y\": {\"color\": \"#2a3f5f\"}, \"marker\": {\"line\": {\"color\": \"#E5ECF6\", \"width\": 0.5}}, \"type\": \"bar\"}], \"barpolar\": [{\"marker\": {\"line\": {\"color\": \"#E5ECF6\", \"width\": 0.5}}, \"type\": \"barpolar\"}], \"carpet\": [{\"aaxis\": {\"endlinecolor\": \"#2a3f5f\", \"gridcolor\": \"white\", \"linecolor\": \"white\", \"minorgridcolor\": \"white\", \"startlinecolor\": \"#2a3f5f\"}, \"baxis\": {\"endlinecolor\": \"#2a3f5f\", \"gridcolor\": \"white\", \"linecolor\": \"white\", \"minorgridcolor\": \"white\", \"startlinecolor\": \"#2a3f5f\"}, \"type\": \"carpet\"}], \"choropleth\": [{\"colorbar\": {\"outlinewidth\": 0, \"ticks\": \"\"}, \"type\": \"choropleth\"}], \"contour\": [{\"colorbar\": {\"outlinewidth\": 0, \"ticks\": \"\"}, \"colorscale\": [[0.0, \"#0d0887\"], [0.1111111111111111, \"#46039f\"], [0.2222222222222222, \"#7201a8\"], [0.3333333333333333, \"#9c179e\"], [0.4444444444444444, \"#bd3786\"], [0.5555555555555556, \"#d8576b\"], [0.6666666666666666, \"#ed7953\"], [0.7777777777777778, \"#fb9f3a\"], [0.8888888888888888, \"#fdca26\"], [1.0, \"#f0f921\"]], \"type\": \"contour\"}], \"contourcarpet\": [{\"colorbar\": {\"outlinewidth\": 0, \"ticks\": \"\"}, \"type\": \"contourcarpet\"}], \"heatmap\": [{\"colorbar\": {\"outlinewidth\": 0, \"ticks\": \"\"}, \"colorscale\": [[0.0, \"#0d0887\"], [0.1111111111111111, \"#46039f\"], [0.2222222222222222, \"#7201a8\"], [0.3333333333333333, \"#9c179e\"], [0.4444444444444444, \"#bd3786\"], [0.5555555555555556, \"#d8576b\"], [0.6666666666666666, \"#ed7953\"], [0.7777777777777778, \"#fb9f3a\"], [0.8888888888888888, \"#fdca26\"], [1.0, \"#f0f921\"]], \"type\": \"heatmap\"}], \"heatmapgl\": [{\"colorbar\": {\"outlinewidth\": 0, \"ticks\": \"\"}, \"colorscale\": [[0.0, \"#0d0887\"], [0.1111111111111111, \"#46039f\"], [0.2222222222222222, \"#7201a8\"], [0.3333333333333333, \"#9c179e\"], [0.4444444444444444, \"#bd3786\"], [0.5555555555555556, \"#d8576b\"], [0.6666666666666666, \"#ed7953\"], [0.7777777777777778, \"#fb9f3a\"], [0.8888888888888888, \"#fdca26\"], [1.0, \"#f0f921\"]], \"type\": \"heatmapgl\"}], \"histogram\": [{\"marker\": {\"colorbar\": {\"outlinewidth\": 0, \"ticks\": \"\"}}, \"type\": \"histogram\"}], \"histogram2d\": [{\"colorbar\": {\"outlinewidth\": 0, \"ticks\": \"\"}, \"colorscale\": [[0.0, \"#0d0887\"], [0.1111111111111111, \"#46039f\"], [0.2222222222222222, \"#7201a8\"], [0.3333333333333333, \"#9c179e\"], [0.4444444444444444, \"#bd3786\"], [0.5555555555555556, \"#d8576b\"], [0.6666666666666666, \"#ed7953\"], [0.7777777777777778, \"#fb9f3a\"], [0.8888888888888888, \"#fdca26\"], [1.0, \"#f0f921\"]], \"type\": \"histogram2d\"}], \"histogram2dcontour\": [{\"colorbar\": {\"outlinewidth\": 0, \"ticks\": \"\"}, \"colorscale\": [[0.0, \"#0d0887\"], [0.1111111111111111, \"#46039f\"], [0.2222222222222222, \"#7201a8\"], [0.3333333333333333, \"#9c179e\"], [0.4444444444444444, \"#bd3786\"], [0.5555555555555556, \"#d8576b\"], [0.6666666666666666, \"#ed7953\"], [0.7777777777777778, \"#fb9f3a\"], [0.8888888888888888, \"#fdca26\"], [1.0, \"#f0f921\"]], \"type\": \"histogram2dcontour\"}], \"mesh3d\": [{\"colorbar\": {\"outlinewidth\": 0, \"ticks\": \"\"}, \"type\": \"mesh3d\"}], \"parcoords\": [{\"line\": {\"colorbar\": {\"outlinewidth\": 0, \"ticks\": \"\"}}, \"type\": \"parcoords\"}], \"pie\": [{\"automargin\": true, \"type\": \"pie\"}], \"scatter\": [{\"marker\": {\"colorbar\": {\"outlinewidth\": 0, \"ticks\": \"\"}}, \"type\": \"scatter\"}], \"scatter3d\": [{\"line\": {\"colorbar\": {\"outlinewidth\": 0, \"ticks\": \"\"}}, \"marker\": {\"colorbar\": {\"outlinewidth\": 0, \"ticks\": \"\"}}, \"type\": \"scatter3d\"}], \"scattercarpet\": [{\"marker\": {\"colorbar\": {\"outlinewidth\": 0, \"ticks\": \"\"}}, \"type\": \"scattercarpet\"}], \"scattergeo\": [{\"marker\": {\"colorbar\": {\"outlinewidth\": 0, \"ticks\": \"\"}}, \"type\": \"scattergeo\"}], \"scattergl\": [{\"marker\": {\"colorbar\": {\"outlinewidth\": 0, \"ticks\": \"\"}}, \"type\": \"scattergl\"}], \"scattermapbox\": [{\"marker\": {\"colorbar\": {\"outlinewidth\": 0, \"ticks\": \"\"}}, \"type\": \"scattermapbox\"}], \"scatterpolar\": [{\"marker\": {\"colorbar\": {\"outlinewidth\": 0, \"ticks\": \"\"}}, \"type\": \"scatterpolar\"}], \"scatterpolargl\": [{\"marker\": {\"colorbar\": {\"outlinewidth\": 0, \"ticks\": \"\"}}, \"type\": \"scatterpolargl\"}], \"scatterternary\": [{\"marker\": {\"colorbar\": {\"outlinewidth\": 0, \"ticks\": \"\"}}, \"type\": \"scatterternary\"}], \"surface\": [{\"colorbar\": {\"outlinewidth\": 0, \"ticks\": \"\"}, \"colorscale\": [[0.0, \"#0d0887\"], [0.1111111111111111, \"#46039f\"], [0.2222222222222222, \"#7201a8\"], [0.3333333333333333, \"#9c179e\"], [0.4444444444444444, \"#bd3786\"], [0.5555555555555556, \"#d8576b\"], [0.6666666666666666, \"#ed7953\"], [0.7777777777777778, \"#fb9f3a\"], [0.8888888888888888, \"#fdca26\"], [1.0, \"#f0f921\"]], \"type\": \"surface\"}], \"table\": [{\"cells\": {\"fill\": {\"color\": \"#EBF0F8\"}, \"line\": {\"color\": \"white\"}}, \"header\": {\"fill\": {\"color\": \"#C8D4E3\"}, \"line\": {\"color\": \"white\"}}, \"type\": \"table\"}]}, \"layout\": {\"annotationdefaults\": {\"arrowcolor\": \"#2a3f5f\", \"arrowhead\": 0, \"arrowwidth\": 1}, \"coloraxis\": {\"colorbar\": {\"outlinewidth\": 0, \"ticks\": \"\"}}, \"colorscale\": {\"diverging\": [[0, \"#8e0152\"], [0.1, \"#c51b7d\"], [0.2, \"#de77ae\"], [0.3, \"#f1b6da\"], [0.4, \"#fde0ef\"], [0.5, \"#f7f7f7\"], [0.6, \"#e6f5d0\"], [0.7, \"#b8e186\"], [0.8, \"#7fbc41\"], [0.9, \"#4d9221\"], [1, \"#276419\"]], \"sequential\": [[0.0, \"#0d0887\"], [0.1111111111111111, \"#46039f\"], [0.2222222222222222, \"#7201a8\"], [0.3333333333333333, \"#9c179e\"], [0.4444444444444444, \"#bd3786\"], [0.5555555555555556, \"#d8576b\"], [0.6666666666666666, \"#ed7953\"], [0.7777777777777778, \"#fb9f3a\"], [0.8888888888888888, \"#fdca26\"], [1.0, \"#f0f921\"]], \"sequentialminus\": [[0.0, \"#0d0887\"], [0.1111111111111111, \"#46039f\"], [0.2222222222222222, \"#7201a8\"], [0.3333333333333333, \"#9c179e\"], [0.4444444444444444, \"#bd3786\"], [0.5555555555555556, \"#d8576b\"], [0.6666666666666666, \"#ed7953\"], [0.7777777777777778, \"#fb9f3a\"], [0.8888888888888888, \"#fdca26\"], [1.0, \"#f0f921\"]]}, \"colorway\": [\"#636efa\", \"#EF553B\", \"#00cc96\", \"#ab63fa\", \"#FFA15A\", \"#19d3f3\", \"#FF6692\", \"#B6E880\", \"#FF97FF\", \"#FECB52\"], \"font\": {\"color\": \"#2a3f5f\"}, \"geo\": {\"bgcolor\": \"white\", \"lakecolor\": \"white\", \"landcolor\": \"#E5ECF6\", \"showlakes\": true, \"showland\": true, \"subunitcolor\": \"white\"}, \"hoverlabel\": {\"align\": \"left\"}, \"hovermode\": \"closest\", \"mapbox\": {\"style\": \"light\"}, \"paper_bgcolor\": \"white\", \"plot_bgcolor\": \"#E5ECF6\", \"polar\": {\"angularaxis\": {\"gridcolor\": \"white\", \"linecolor\": \"white\", \"ticks\": \"\"}, \"bgcolor\": \"#E5ECF6\", \"radialaxis\": {\"gridcolor\": \"white\", \"linecolor\": \"white\", \"ticks\": \"\"}}, \"scene\": {\"xaxis\": {\"backgroundcolor\": \"#E5ECF6\", \"gridcolor\": \"white\", \"gridwidth\": 2, \"linecolor\": \"white\", \"showbackground\": true, \"ticks\": \"\", \"zerolinecolor\": \"white\"}, \"yaxis\": {\"backgroundcolor\": \"#E5ECF6\", \"gridcolor\": \"white\", \"gridwidth\": 2, \"linecolor\": \"white\", \"showbackground\": true, \"ticks\": \"\", \"zerolinecolor\": \"white\"}, \"zaxis\": {\"backgroundcolor\": \"#E5ECF6\", \"gridcolor\": \"white\", \"gridwidth\": 2, \"linecolor\": \"white\", \"showbackground\": true, \"ticks\": \"\", \"zerolinecolor\": \"white\"}}, \"shapedefaults\": {\"line\": {\"color\": \"#2a3f5f\"}}, \"ternary\": {\"aaxis\": {\"gridcolor\": \"white\", \"linecolor\": \"white\", \"ticks\": \"\"}, \"baxis\": {\"gridcolor\": \"white\", \"linecolor\": \"white\", \"ticks\": \"\"}, \"bgcolor\": \"#E5ECF6\", \"caxis\": {\"gridcolor\": \"white\", \"linecolor\": \"white\", \"ticks\": \"\"}}, \"title\": {\"x\": 0.05}, \"xaxis\": {\"automargin\": true, \"gridcolor\": \"white\", \"linecolor\": \"white\", \"ticks\": \"\", \"title\": {\"standoff\": 15}, \"zerolinecolor\": \"white\", \"zerolinewidth\": 2}, \"yaxis\": {\"automargin\": true, \"gridcolor\": \"white\", \"linecolor\": \"white\", \"ticks\": \"\", \"title\": {\"standoff\": 15}, \"zerolinecolor\": \"white\", \"zerolinewidth\": 2}}}, \"xaxis\": {\"title\": {\"text\": \"Products\"}}, \"yaxis\": {\"title\": {\"text\": \"Count\"}}},                        {\"responsive\": true}                    ).then(function(){\n                            \nvar gd = document.getElementById('0541101c-123e-41b7-b77d-d31aee4b3507');\nvar x = new MutationObserver(function (mutations, observer) {{\n        var display = window.getComputedStyle(gd).display;\n        if (!display || display === 'none') {{\n            console.log([gd, 'removed!']);\n            Plotly.purge(gd);\n            observer.disconnect();\n        }}\n}});\n\n// Listen for the removal of the full notebook cells\nvar notebookContainer = gd.closest('#notebook-container');\nif (notebookContainer) {{\n    x.observe(notebookContainer, {childList: true});\n}}\n\n// Listen for the clearing of the current output cell\nvar outputEl = gd.closest('.output');\nif (outputEl) {{\n    x.observe(outputEl, {childList: true});\n}}\n\n                        })                };                });            </script>        </div>"
          },
          "metadata": {}
        }
      ]
    },
    {
      "cell_type": "markdown",
      "source": [
        "### One-hot representation of products purchased"
      ],
      "metadata": {
        "id": "Q2ijIaqbA_UE"
      }
    },
    {
      "cell_type": "code",
      "source": [
        "one_hot = pd.get_dummies(df['itemDescription'])\n",
        "df.drop('itemDescription', inplace=True, axis=1)\n",
        "df = df.join(one_hot)\n",
        "df.head()"
      ],
      "metadata": {
        "execution": {
          "iopub.status.busy": "2024-02-10T01:55:16.728576Z",
          "iopub.execute_input": "2024-02-10T01:55:16.729164Z",
          "iopub.status.idle": "2024-02-10T01:55:16.815867Z",
          "shell.execute_reply.started": "2024-02-10T01:55:16.729077Z",
          "shell.execute_reply": "2024-02-10T01:55:16.814415Z"
        },
        "trusted": true,
        "id": "oyz1TCcyA_UE",
        "outputId": "021744f0-49c3-4b53-d1b4-97f99f9caf3e"
      },
      "execution_count": null,
      "outputs": [
        {
          "execution_count": 8,
          "output_type": "execute_result",
          "data": {
            "text/plain": "   Member_number       Date  Instant food products  UHT-milk  \\\n0           1808 2015-07-21                      0         0   \n1           2552 2015-05-01                      0         0   \n2           2300 2015-09-19                      0         0   \n3           1187 2015-12-12                      0         0   \n4           3037 2015-01-02                      0         0   \n\n   abrasive cleaner  artif. sweetener  baby cosmetics  bags  baking powder  \\\n0                 0                 0               0     0              0   \n1                 0                 0               0     0              0   \n2                 0                 0               0     0              0   \n3                 0                 0               0     0              0   \n4                 0                 0               0     0              0   \n\n   bathroom cleaner  ...  turkey  vinegar  waffles  whipped/sour cream  \\\n0                 0  ...       0        0        0                   0   \n1                 0  ...       0        0        0                   0   \n2                 0  ...       0        0        0                   0   \n3                 0  ...       0        0        0                   0   \n4                 0  ...       0        0        0                   0   \n\n   whisky  white bread  white wine  whole milk  yogurt  zwieback  \n0       0            0           0           0       0         0  \n1       0            0           0           1       0         0  \n2       0            0           0           0       0         0  \n3       0            0           0           0       0         0  \n4       0            0           0           1       0         0  \n\n[5 rows x 169 columns]",
            "text/html": "<div>\n<style scoped>\n    .dataframe tbody tr th:only-of-type {\n        vertical-align: middle;\n    }\n\n    .dataframe tbody tr th {\n        vertical-align: top;\n    }\n\n    .dataframe thead th {\n        text-align: right;\n    }\n</style>\n<table border=\"1\" class=\"dataframe\">\n  <thead>\n    <tr style=\"text-align: right;\">\n      <th></th>\n      <th>Member_number</th>\n      <th>Date</th>\n      <th>Instant food products</th>\n      <th>UHT-milk</th>\n      <th>abrasive cleaner</th>\n      <th>artif. sweetener</th>\n      <th>baby cosmetics</th>\n      <th>bags</th>\n      <th>baking powder</th>\n      <th>bathroom cleaner</th>\n      <th>...</th>\n      <th>turkey</th>\n      <th>vinegar</th>\n      <th>waffles</th>\n      <th>whipped/sour cream</th>\n      <th>whisky</th>\n      <th>white bread</th>\n      <th>white wine</th>\n      <th>whole milk</th>\n      <th>yogurt</th>\n      <th>zwieback</th>\n    </tr>\n  </thead>\n  <tbody>\n    <tr>\n      <th>0</th>\n      <td>1808</td>\n      <td>2015-07-21</td>\n      <td>0</td>\n      <td>0</td>\n      <td>0</td>\n      <td>0</td>\n      <td>0</td>\n      <td>0</td>\n      <td>0</td>\n      <td>0</td>\n      <td>...</td>\n      <td>0</td>\n      <td>0</td>\n      <td>0</td>\n      <td>0</td>\n      <td>0</td>\n      <td>0</td>\n      <td>0</td>\n      <td>0</td>\n      <td>0</td>\n      <td>0</td>\n    </tr>\n    <tr>\n      <th>1</th>\n      <td>2552</td>\n      <td>2015-05-01</td>\n      <td>0</td>\n      <td>0</td>\n      <td>0</td>\n      <td>0</td>\n      <td>0</td>\n      <td>0</td>\n      <td>0</td>\n      <td>0</td>\n      <td>...</td>\n      <td>0</td>\n      <td>0</td>\n      <td>0</td>\n      <td>0</td>\n      <td>0</td>\n      <td>0</td>\n      <td>0</td>\n      <td>1</td>\n      <td>0</td>\n      <td>0</td>\n    </tr>\n    <tr>\n      <th>2</th>\n      <td>2300</td>\n      <td>2015-09-19</td>\n      <td>0</td>\n      <td>0</td>\n      <td>0</td>\n      <td>0</td>\n      <td>0</td>\n      <td>0</td>\n      <td>0</td>\n      <td>0</td>\n      <td>...</td>\n      <td>0</td>\n      <td>0</td>\n      <td>0</td>\n      <td>0</td>\n      <td>0</td>\n      <td>0</td>\n      <td>0</td>\n      <td>0</td>\n      <td>0</td>\n      <td>0</td>\n    </tr>\n    <tr>\n      <th>3</th>\n      <td>1187</td>\n      <td>2015-12-12</td>\n      <td>0</td>\n      <td>0</td>\n      <td>0</td>\n      <td>0</td>\n      <td>0</td>\n      <td>0</td>\n      <td>0</td>\n      <td>0</td>\n      <td>...</td>\n      <td>0</td>\n      <td>0</td>\n      <td>0</td>\n      <td>0</td>\n      <td>0</td>\n      <td>0</td>\n      <td>0</td>\n      <td>0</td>\n      <td>0</td>\n      <td>0</td>\n    </tr>\n    <tr>\n      <th>4</th>\n      <td>3037</td>\n      <td>2015-01-02</td>\n      <td>0</td>\n      <td>0</td>\n      <td>0</td>\n      <td>0</td>\n      <td>0</td>\n      <td>0</td>\n      <td>0</td>\n      <td>0</td>\n      <td>...</td>\n      <td>0</td>\n      <td>0</td>\n      <td>0</td>\n      <td>0</td>\n      <td>0</td>\n      <td>0</td>\n      <td>0</td>\n      <td>1</td>\n      <td>0</td>\n      <td>0</td>\n    </tr>\n  </tbody>\n</table>\n<p>5 rows × 169 columns</p>\n</div>"
          },
          "metadata": {}
        }
      ]
    },
    {
      "cell_type": "markdown",
      "source": [
        "## Transactions\n",
        "Note: if a customer bought multiple products on same day, We will consider it one transaction"
      ],
      "metadata": {
        "id": "8oTjb2zHA_UF"
      }
    },
    {
      "cell_type": "code",
      "source": [
        "records = df.groupby([\"Member_number\",\"Date\"])[all_products[:]].apply(sum)\n",
        "records = records.reset_index()[all_products]"
      ],
      "metadata": {
        "execution": {
          "iopub.status.busy": "2024-02-10T01:55:16.817797Z",
          "iopub.execute_input": "2024-02-10T01:55:16.818286Z",
          "iopub.status.idle": "2024-02-10T01:55:34.789600Z",
          "shell.execute_reply.started": "2024-02-10T01:55:16.818238Z",
          "shell.execute_reply": "2024-02-10T01:55:34.788401Z"
        },
        "trusted": true,
        "id": "TmEfymhvA_UF"
      },
      "execution_count": null,
      "outputs": []
    },
    {
      "cell_type": "code",
      "source": [
        "## Replacing non-zero values with product names\n",
        "def get_Pnames(x):\n",
        "    for product in all_products:\n",
        "        if x[product] > 0:\n",
        "            x[product] = product\n",
        "    return x\n",
        "\n",
        "records = records.apply(get_Pnames, axis=1)\n",
        "records.head()"
      ],
      "metadata": {
        "execution": {
          "iopub.status.busy": "2024-02-10T01:55:34.791369Z",
          "iopub.execute_input": "2024-02-10T01:55:34.791835Z",
          "iopub.status.idle": "2024-02-10T01:55:59.100997Z",
          "shell.execute_reply.started": "2024-02-10T01:55:34.791787Z",
          "shell.execute_reply": "2024-02-10T01:55:59.099862Z"
        },
        "trusted": true,
        "id": "A_2sbD6cA_UF",
        "outputId": "e3f9b5e2-72ef-4c49-f425-18acc929b553"
      },
      "execution_count": null,
      "outputs": [
        {
          "execution_count": 10,
          "output_type": "execute_result",
          "data": {
            "text/plain": "  tropical fruit  whole milk pip fruit other vegetables rolls/buns pot plants  \\\n0              0  whole milk         0                0          0          0   \n1              0  whole milk         0                0          0          0   \n2              0           0         0                0          0          0   \n3              0           0         0                0          0          0   \n4              0           0         0                0          0          0   \n\n  citrus fruit beef frankfurter chicken  ... flower (seeds) rice tea  \\\n0            0    0           0       0  ...              0    0   0   \n1            0    0           0       0  ...              0    0   0   \n2            0    0           0       0  ...              0    0   0   \n3            0    0           0       0  ...              0    0   0   \n4            0    0           0       0  ...              0    0   0   \n\n  salad dressing specialty vegetables pudding powder ready soups  \\\n0              0                    0              0           0   \n1              0                    0              0           0   \n2              0                    0              0           0   \n3              0                    0              0           0   \n4              0                    0              0           0   \n\n  make up remover toilet cleaner preservation products  \n0               0              0                     0  \n1               0              0                     0  \n2               0              0                     0  \n3               0              0                     0  \n4               0              0                     0  \n\n[5 rows x 167 columns]",
            "text/html": "<div>\n<style scoped>\n    .dataframe tbody tr th:only-of-type {\n        vertical-align: middle;\n    }\n\n    .dataframe tbody tr th {\n        vertical-align: top;\n    }\n\n    .dataframe thead th {\n        text-align: right;\n    }\n</style>\n<table border=\"1\" class=\"dataframe\">\n  <thead>\n    <tr style=\"text-align: right;\">\n      <th></th>\n      <th>tropical fruit</th>\n      <th>whole milk</th>\n      <th>pip fruit</th>\n      <th>other vegetables</th>\n      <th>rolls/buns</th>\n      <th>pot plants</th>\n      <th>citrus fruit</th>\n      <th>beef</th>\n      <th>frankfurter</th>\n      <th>chicken</th>\n      <th>...</th>\n      <th>flower (seeds)</th>\n      <th>rice</th>\n      <th>tea</th>\n      <th>salad dressing</th>\n      <th>specialty vegetables</th>\n      <th>pudding powder</th>\n      <th>ready soups</th>\n      <th>make up remover</th>\n      <th>toilet cleaner</th>\n      <th>preservation products</th>\n    </tr>\n  </thead>\n  <tbody>\n    <tr>\n      <th>0</th>\n      <td>0</td>\n      <td>whole milk</td>\n      <td>0</td>\n      <td>0</td>\n      <td>0</td>\n      <td>0</td>\n      <td>0</td>\n      <td>0</td>\n      <td>0</td>\n      <td>0</td>\n      <td>...</td>\n      <td>0</td>\n      <td>0</td>\n      <td>0</td>\n      <td>0</td>\n      <td>0</td>\n      <td>0</td>\n      <td>0</td>\n      <td>0</td>\n      <td>0</td>\n      <td>0</td>\n    </tr>\n    <tr>\n      <th>1</th>\n      <td>0</td>\n      <td>whole milk</td>\n      <td>0</td>\n      <td>0</td>\n      <td>0</td>\n      <td>0</td>\n      <td>0</td>\n      <td>0</td>\n      <td>0</td>\n      <td>0</td>\n      <td>...</td>\n      <td>0</td>\n      <td>0</td>\n      <td>0</td>\n      <td>0</td>\n      <td>0</td>\n      <td>0</td>\n      <td>0</td>\n      <td>0</td>\n      <td>0</td>\n      <td>0</td>\n    </tr>\n    <tr>\n      <th>2</th>\n      <td>0</td>\n      <td>0</td>\n      <td>0</td>\n      <td>0</td>\n      <td>0</td>\n      <td>0</td>\n      <td>0</td>\n      <td>0</td>\n      <td>0</td>\n      <td>0</td>\n      <td>...</td>\n      <td>0</td>\n      <td>0</td>\n      <td>0</td>\n      <td>0</td>\n      <td>0</td>\n      <td>0</td>\n      <td>0</td>\n      <td>0</td>\n      <td>0</td>\n      <td>0</td>\n    </tr>\n    <tr>\n      <th>3</th>\n      <td>0</td>\n      <td>0</td>\n      <td>0</td>\n      <td>0</td>\n      <td>0</td>\n      <td>0</td>\n      <td>0</td>\n      <td>0</td>\n      <td>0</td>\n      <td>0</td>\n      <td>...</td>\n      <td>0</td>\n      <td>0</td>\n      <td>0</td>\n      <td>0</td>\n      <td>0</td>\n      <td>0</td>\n      <td>0</td>\n      <td>0</td>\n      <td>0</td>\n      <td>0</td>\n    </tr>\n    <tr>\n      <th>4</th>\n      <td>0</td>\n      <td>0</td>\n      <td>0</td>\n      <td>0</td>\n      <td>0</td>\n      <td>0</td>\n      <td>0</td>\n      <td>0</td>\n      <td>0</td>\n      <td>0</td>\n      <td>...</td>\n      <td>0</td>\n      <td>0</td>\n      <td>0</td>\n      <td>0</td>\n      <td>0</td>\n      <td>0</td>\n      <td>0</td>\n      <td>0</td>\n      <td>0</td>\n      <td>0</td>\n    </tr>\n  </tbody>\n</table>\n<p>5 rows × 167 columns</p>\n</div>"
          },
          "metadata": {}
        }
      ]
    },
    {
      "cell_type": "code",
      "source": [
        "print(\"total transactions: {}\".format(len(records)))"
      ],
      "metadata": {
        "_kg_hide-input": true,
        "execution": {
          "iopub.status.busy": "2024-02-10T01:55:59.102708Z",
          "iopub.execute_input": "2024-02-10T01:55:59.103378Z",
          "iopub.status.idle": "2024-02-10T01:55:59.110417Z",
          "shell.execute_reply.started": "2024-02-10T01:55:59.103319Z",
          "shell.execute_reply": "2024-02-10T01:55:59.108956Z"
        },
        "trusted": true,
        "id": "hZ9bEJ6gA_UF",
        "outputId": "22525d05-4ff8-40b1-fe0d-4d310e57056e"
      },
      "execution_count": null,
      "outputs": [
        {
          "name": "stdout",
          "text": "total transactions: 14963\n",
          "output_type": "stream"
        }
      ]
    },
    {
      "cell_type": "code",
      "source": [
        "## Removing zeros\n",
        "x = records.values\n",
        "x = [sub[~(sub == 0)].tolist() for sub in x if sub[sub != 0].tolist()]\n",
        "transactions = x"
      ],
      "metadata": {
        "execution": {
          "iopub.status.busy": "2024-02-10T01:55:59.114578Z",
          "iopub.execute_input": "2024-02-10T01:55:59.114939Z",
          "iopub.status.idle": "2024-02-10T01:55:59.543949Z",
          "shell.execute_reply.started": "2024-02-10T01:55:59.114906Z",
          "shell.execute_reply": "2024-02-10T01:55:59.542509Z"
        },
        "trusted": true,
        "id": "nqxqjQ02A_UG"
      },
      "execution_count": null,
      "outputs": []
    },
    {
      "cell_type": "markdown",
      "source": [
        "### Example transactions"
      ],
      "metadata": {
        "id": "Lln-e_LIA_UG"
      }
    },
    {
      "cell_type": "code",
      "source": [
        "transactions[0:10]"
      ],
      "metadata": {
        "execution": {
          "iopub.status.busy": "2024-02-10T01:55:59.546245Z",
          "iopub.execute_input": "2024-02-10T01:55:59.546975Z",
          "iopub.status.idle": "2024-02-10T01:55:59.557360Z",
          "shell.execute_reply.started": "2024-02-10T01:55:59.546931Z",
          "shell.execute_reply": "2024-02-10T01:55:59.555565Z"
        },
        "trusted": true,
        "id": "OS25YxJmA_UG",
        "outputId": "5763c2a5-1398-453a-a042-c1603a30b8c8"
      },
      "execution_count": null,
      "outputs": [
        {
          "execution_count": 13,
          "output_type": "execute_result",
          "data": {
            "text/plain": "[['whole milk', 'pastry', 'salty snack'],\n ['whole milk', 'yogurt', 'sausage', 'semi-finished bread'],\n ['soda', 'pickled vegetables'],\n ['canned beer', 'misc. beverages'],\n ['sausage', 'hygiene articles'],\n ['whole milk', 'rolls/buns', 'sausage'],\n ['whole milk', 'soda'],\n ['frankfurter', 'soda', 'whipped/sour cream'],\n ['frankfurter', 'curd'],\n ['beef', 'white bread']]"
          },
          "metadata": {}
        }
      ]
    },
    {
      "cell_type": "markdown",
      "source": [
        "## Association Rules"
      ],
      "metadata": {
        "id": "sDr3m6T9A_UG"
      }
    },
    {
      "cell_type": "code",
      "source": [
        "rules = apriori(transactions,min_support=0.00030,min_confidance=0.05,min_lift=3,min_length=2,target=\"rules\")\n",
        "association_results = list(rules)"
      ],
      "metadata": {
        "execution": {
          "iopub.status.busy": "2024-02-10T01:55:59.559252Z",
          "iopub.execute_input": "2024-02-10T01:55:59.559743Z",
          "iopub.status.idle": "2024-02-10T01:56:01.683838Z",
          "shell.execute_reply.started": "2024-02-10T01:55:59.559680Z",
          "shell.execute_reply": "2024-02-10T01:56:01.682637Z"
        },
        "trusted": true,
        "id": "SCqH-B_RA_UG"
      },
      "execution_count": null,
      "outputs": []
    },
    {
      "cell_type": "code",
      "source": [
        "for item in association_results:\n",
        "\n",
        "    pair = item[0]\n",
        "    items = [x for x in pair]\n",
        "    print(\"Rule: \" + items[0] + \" -> \" + items[1])\n",
        "\n",
        "    print(\"Support: \" + str(item[1]))\n",
        "\n",
        "    print(\"Confidence: \" + str(item[2][0][2]))\n",
        "    print(\"Lift: \" + str(item[2][0][3]))\n",
        "    print(\"=====================================\")"
      ],
      "metadata": {
        "_kg_hide-input": true,
        "execution": {
          "iopub.status.busy": "2024-02-10T01:56:01.685553Z",
          "iopub.execute_input": "2024-02-10T01:56:01.686010Z",
          "iopub.status.idle": "2024-02-10T01:56:01.713657Z",
          "shell.execute_reply.started": "2024-02-10T01:56:01.685960Z",
          "shell.execute_reply": "2024-02-10T01:56:01.712085Z"
        },
        "trusted": true,
        "id": "kQOSwDwJA_UG",
        "outputId": "c95b58e6-3e41-461f-e380-6f31cc9ef11f"
      },
      "execution_count": null,
      "outputs": [
        {
          "name": "stdout",
          "text": "Rule: specialty chocolate -> frozen fish\nSupport: 0.0003341575887188398\nConfidence: 0.049019607843137254\nLift: 3.0689556157190907\n=====================================\nRule: liver loaf -> fruit/vegetable juice\nSupport: 0.00040098910646260775\nConfidence: 0.011787819253438114\nLift: 3.52762278978389\n=====================================\nRule: ham -> pickled vegetables\nSupport: 0.0005346521419501437\nConfidence: 0.03125\nLift: 3.4895055970149254\n=====================================\nRule: meat -> roll products \nSupport: 0.0003341575887188398\nConfidence: 0.019841269841269844\nLift: 3.620547812620984\n=====================================\nRule: misc. beverages -> salt\nSupport: 0.0003341575887188398\nConfidence: 0.0211864406779661\nLift: 3.5619405827461437\n=====================================\nRule: misc. beverages -> spread cheese\nSupport: 0.0003341575887188398\nConfidence: 0.0211864406779661\nLift: 3.170127118644068\n=====================================\nRule: soups -> seasonal products\nSupport: 0.0003341575887188398\nConfidence: 0.04716981132075471\nLift: 14.704205974842766\n=====================================\nRule: spread cheese -> sugar\nSupport: 0.00040098910646260775\nConfidence: 0.06\nLift: 3.3878490566037733\n=====================================\nRule: sausage -> butter\nSupport: 0.0003341575887188398\nConfidence: 0.007374631268436578\nLift: 3.8050554368833285\n=====================================\nRule: whole milk -> hard cheese\nSupport: 0.0003341575887188398\nConfidence: 0.007374631268436578\nLift: 3.9409502739148756\n=====================================\nRule: frozen vegetables -> brown bread\nSupport: 0.0003341575887188398\nConfidence: 0.008880994671403198\nLift: 6.644316163410303\n=====================================\nRule: sausage -> brown bread\nSupport: 0.00040098910646260775\nConfidence: 0.010657193605683837\nLift: 4.309826700590467\n=====================================\nRule: frankfurter -> butter\nSupport: 0.0003341575887188398\nConfidence: 0.009487666034155597\nLift: 3.086172758023265\n=====================================\nRule: butter milk -> yogurt\nSupport: 0.0003341575887188398\nConfidence: 0.019011406844106463\nLift: 4.9046151829028455\n=====================================\nRule: frozen vegetables -> sausage\nSupport: 0.0003341575887188398\nConfidence: 0.007122507122507123\nLift: 3.437873357228196\n=====================================\nRule: whole milk -> hygiene articles\nSupport: 0.00040098910646260775\nConfidence: 0.008547008547008546\nLift: 4.918803418803418\n=====================================\nRule: yogurt -> chewing gum\nSupport: 0.00040098910646260775\nConfidence: 0.03333333333333333\nLift: 5.732950191570881\n=====================================\nRule: yogurt -> pork\nSupport: 0.00040098910646260775\nConfidence: 0.004669260700389105\nLift: 3.4933073929961087\n=====================================\nRule: frankfurter -> rolls/buns\nSupport: 0.0003341575887188398\nConfidence: 0.008849557522123895\nLift: 3.6782202556538843\n=====================================\nRule: frankfurter -> coffee\nSupport: 0.0003341575887188398\nConfidence: 0.010570824524312896\nLift: 3.438505377332475\n=====================================\nRule: sausage -> pastry\nSupport: 0.0003341575887188398\nConfidence: 0.010570824524312896\nLift: 3.2952343199436225\n=====================================\nRule: curd -> fruit/vegetable juice\nSupport: 0.0003341575887188398\nConfidence: 0.009920634920634922\nLift: 5.497868900646679\n=====================================\nRule: curd -> margarine\nSupport: 0.0003341575887188398\nConfidence: 0.009920634920634922\nLift: 5.301516439909298\n=====================================\nRule: curd -> sausage\nSupport: 0.00046782062420637575\nConfidence: 0.007751937984496124\nLift: 3.4115367077063383\n=====================================\nRule: other vegetables -> hard cheese\nSupport: 0.0003341575887188398\nConfidence: 0.022727272727272728\nLift: 3.7785353535353536\n=====================================\nRule: rolls/buns -> pip fruit\nSupport: 0.0003341575887188398\nConfidence: 0.022026431718061675\nLift: 4.453804024288606\n=====================================\nRule: root vegetables -> margarine\nSupport: 0.0003341575887188398\nConfidence: 0.01037344398340249\nLift: 3.1043568464730287\n=====================================\nRule: sausage -> margarine\nSupport: 0.00040098910646260775\nConfidence: 0.0066445182724252485\nLift: 3.106935215946843\n=====================================\nRule: pastry -> sausage\nSupport: 0.0003341575887188398\nConfidence: 0.006459948320413437\nLift: 3.580007656235047\n=====================================\nRule: yogurt -> onions\nSupport: 0.0003341575887188398\nConfidence: 0.016501650165016504\nLift: 3.1655665566556657\n=====================================\nRule: other vegetables -> sausage\nSupport: 0.0003341575887188398\nConfidence: 0.002736726874657909\nLift: 3.4124703521255246\n=====================================\nRule: other vegetables -> soft cheese\nSupport: 0.0003341575887188398\nConfidence: 0.03333333333333333\nLift: 4.122038567493113\n=====================================\nRule: yogurt -> sausage\nSupport: 0.00040098910646260775\nConfidence: 0.004669260700389105\nLift: 3.037658602605312\n=====================================\nRule: whole milk -> other vegetables\nSupport: 0.0003341575887188398\nConfidence: 0.006459948320413437\nLift: 5.685894512843897\n=====================================\nRule: whole milk -> rolls/buns\nSupport: 0.0003341575887188398\nConfidence: 0.005537098560354374\nLift: 4.142580287929125\n=====================================\n",
          "output_type": "stream"
        }
      ]
    },
    {
      "cell_type": "code",
      "source": [],
      "metadata": {
        "trusted": true,
        "id": "f6KpwQpoA_UG"
      },
      "execution_count": null,
      "outputs": []
    }
  ]
}